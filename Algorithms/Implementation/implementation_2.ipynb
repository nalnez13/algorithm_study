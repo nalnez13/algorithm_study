{
 "cells": [
  {
   "cell_type": "markdown",
   "metadata": {},
   "source": [
    "### 럭키 스트레이트\n",
    "- 현재 캐릭터 점수가 N이라고 할 때 자릿수를 기준으로 점수 N을 반으로 나누어 왼쪽 부분의 각 자릿수 합과 오른쪽 부분의 각 자릿수 합을 더한 값이 동일한 상황.\n",
    "- N이 주어지면 럭키 스트레이트를 사용할 수 있는 알려주기\n",
    "```\n",
    "점수가 123,402 라면\n",
    "1+2+3 = 4+0+2 = 6 이므로 사용할 수 있음\n",
    "\n",
    "N 은 항상 짝수\n",
    "```"
   ]
  },
  {
   "cell_type": "code",
   "execution_count": 4,
   "metadata": {},
   "outputs": [
    {
     "name": "stdout",
     "output_type": "stream",
     "text": [
      "READY\n"
     ]
    }
   ],
   "source": [
    "S = input()\n",
    "half_len = len(S) // 2\n",
    "\n",
    "left = S[:half_len]\n",
    "right = S[half_len:]\n",
    "\n",
    "left_sum = 0\n",
    "right_sum = 0\n",
    "for i in range(half_len):\n",
    "    left_sum += int(left[i])\n",
    "    right_sum += int(right[i])\n",
    "\n",
    "if left_sum == right_sum:\n",
    "    print('LUCKY')\n",
    "\n",
    "else:\n",
    "    print('READY')"
   ]
  },
  {
   "cell_type": "markdown",
   "metadata": {},
   "source": [
    "### 문자열 재정렬\n",
    "- 알파벳 대문자와 숫자 0~9 로만 구성된 문자열이 입력된다.\n",
    "- 모든 알파벳을 오름차순 정렬하여 이어서 출력 후 모든 숫자를 더한 값을 이어서 출력하라\n",
    "\n",
    "예를 들어 K1KA5CB7 이 들어오면 ABCKK13 을 출력"
   ]
  },
  {
   "cell_type": "code",
   "execution_count": 6,
   "metadata": {},
   "outputs": [
    {
     "name": "stdout",
     "output_type": "stream",
     "text": [
      "ABCKK13\n"
     ]
    }
   ],
   "source": [
    "S = input()\n",
    "\n",
    "chars = []\n",
    "sums = 0\n",
    "found_num = False\n",
    "\n",
    "for s in S:\n",
    "    if s.isdigit():\n",
    "        sums += int(s)\n",
    "        found_num = True\n",
    "    else:\n",
    "        chars.append(s)\n",
    "\n",
    "chars.sort()\n",
    "print(''.join(chars), end='')\n",
    "if found_num:\n",
    "    print(sums)"
   ]
  },
  {
   "cell_type": "markdown",
   "metadata": {},
   "source": [
    "### 뱀\n",
    "- 뱀이 기어다니는데, 사과를 먹으면 길이가 늘어나고, 벽 또는 자기 자신의 몸과 부딪히면 게임이 끝난다.\n",
    "- NxN에서 진행되고 몇몇 칸에는 사과가 놓여 있다.\n",
    "- 보드의 상하좌우에는 벽이 있다.\n",
    "- 게임 시작 시 뱀은 맨위 맨좌측에 위치하고 길이는 1이다.\n",
    "- 뱀은 처음에 오른쪽을 향한다.\n",
    "- 매 초마다 이동하는데, 다음 규칙을 따른다.\n",
    "1. 먼저 뱀은 몸길이를 늘려 머리를 다음 칸에 위치 시킨다.\n",
    "2. 만약 이동한 칸에 사과가 있다면 그 칸에 있던 사과가 없어지고 꼬리는 움직이지 않는다.\n",
    "3. 만약 이동한 칸에 사과가 없다면 몸 길이를 줄여서 꼬리가 위치한 칸을 비운다.\n",
    "사과의 위치와 뱀의 이동경로가 주어질 때 이 게임이 몇 초에 끝나는지 계산하라"
   ]
  },
  {
   "cell_type": "markdown",
   "metadata": {},
   "source": [
    "<pre>\n",
    "첫째 줄에 보드의 크기 N이 주어진다. (2 ≤ N ≤ 100) 다음 줄에 사과의 개수 K가 주어진다. (0 ≤ K ≤ 100)\n",
    "\n",
    "다음 K개의 줄에는 사과의 위치가 주어지는데, 첫 번째 정수는 행, 두 번째 정수는 열 위치를 의미한다. 사과의 위치는 모두 다르며, 맨 위 맨 좌측 (1행 1열) 에는 사과가 없다.\n",
    "\n",
    "다음 줄에는 뱀의 방향 변환 횟수 L 이 주어진다. (1 ≤ L ≤ 100)\n",
    "\n",
    "다음 L개의 줄에는 뱀의 방향 변환 정보가 주어지는데, \n",
    "정수 X와 문자 C로 이루어져 있으며. 게임 시작 시간으로부터 X초가 끝난 뒤에 왼쪽(C가 'L') 또는 오른쪽(C가 'D')로 90도 방향을 회전시킨다는 뜻이다.\n",
    " X는 10,000 이하의 양의 정수이며, 방향 전환 정보는 X가 증가하는 순으로 주어진다."
   ]
  },
  {
   "cell_type": "markdown",
   "metadata": {},
   "source": [
    "```\n",
    "입력\n",
    "6\n",
    "3\n",
    "3 4\n",
    "2 5\n",
    "5 3\n",
    "3\n",
    "3 D\n",
    "15 L\n",
    "17 D\n",
    "출력\n",
    "9\n",
    "```"
   ]
  },
  {
   "cell_type": "code",
   "execution_count": 18,
   "metadata": {},
   "outputs": [
    {
     "name": "stdout",
     "output_type": "stream",
     "text": [
      "13\n"
     ]
    }
   ],
   "source": [
    "from collections import deque\n",
    "\n",
    "n = int(input())\n",
    "k = int(input())\n",
    "\n",
    "array = [[0 for _ in range(n + 1)] for _ in range(n + 1)]\n",
    "# 초기 이동값\n",
    "x = 1\n",
    "y = 1\n",
    "array[x][y] = 1\n",
    "\n",
    "for _ in range(k):\n",
    "    ay, ax = map(int, input().split())\n",
    "    array[ax][ay] = 2 # 사과\n",
    "\n",
    "l = int(input())\n",
    "\n",
    "moves = []\n",
    "for _ in range(l):\n",
    "    data = input().split()\n",
    "    sec = int(data[0])\n",
    "    direction = data[1]\n",
    "    moves.append((sec, direction))\n",
    "\n",
    "dx = [1, 0, -1, 0]\n",
    "dy = [0, 1, 0, -1]\n",
    "\n",
    "def turn(direction, c):\n",
    "    if c =='L':\n",
    "        direction = (direction - 1) % 4\n",
    "    else:\n",
    "        direction = (direction + 1) % 4\n",
    "    \n",
    "    if direction < 0:\n",
    "        direction += 4\n",
    "    return direction\n",
    "\n",
    "snake = deque()\n",
    "snake.append((x, y))\n",
    "times = 0\n",
    "move_idx = 0\n",
    "direction = 0\n",
    "\n",
    "while True:\n",
    "    # move\n",
    "    nx = x + dx[direction]\n",
    "    ny = y + dy[direction]\n",
    "\n",
    "    # check game over\n",
    "    if nx < 1 or nx > n or ny < 1 or ny > n or array[nx][ny] == 1:\n",
    "        times += 1\n",
    "        break\n",
    "    \n",
    "    # check apple\n",
    "    x = nx\n",
    "    y = ny\n",
    "    snake.append((x, y))\n",
    "    # pop tail\n",
    "    if array[nx][ny] != 2:\n",
    "        tx, ty = snake.popleft()\n",
    "        array[tx][ty] = 0\n",
    "    array[x][y] = 1\n",
    "\n",
    "    times += 1\n",
    "\n",
    "    if move_idx < l and times == moves[move_idx][0]:\n",
    "        direction = turn(direction, moves[move_idx][1])\n",
    "        move_idx += 1\n",
    "\n",
    "\n",
    "print(times)"
   ]
  }
 ],
 "metadata": {
  "interpreter": {
   "hash": "9a1ec89fd4e57d564c4c04cf71716d7e381057f7690b602276210aaa54a14d21"
  },
  "kernelspec": {
   "display_name": "Python 3.9.7 64-bit ('base': conda)",
   "language": "python",
   "name": "python3"
  },
  "language_info": {
   "codemirror_mode": {
    "name": "ipython",
    "version": 3
   },
   "file_extension": ".py",
   "mimetype": "text/x-python",
   "name": "python",
   "nbconvert_exporter": "python",
   "pygments_lexer": "ipython3",
   "version": "3.9.7"
  },
  "orig_nbformat": 4
 },
 "nbformat": 4,
 "nbformat_minor": 2
}
