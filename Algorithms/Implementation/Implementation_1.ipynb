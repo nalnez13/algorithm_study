{
 "cells": [
  {
   "cell_type": "markdown",
   "metadata": {},
   "source": [
    "### Implementation\n",
    "- 풀이는 떠올리기 쉽지만 소스코드로 구현하기 까다로운 유형의 문제\n",
    "- 알고리즘은 간단한데 소스가 지나치게 길어지는 문제, 특정 소수점으로 포매팅 하는 문제, 문자열을 단어 단위로 넣는 문제 등 사소한 조건이 있는 문제가 해당\n",
    "- N개의 원소의 리스트에서 R개를 뽑아 한줄로 세우는 모든 경우(순열)를 구하는 경우는 itertools를 사용하면 쉽게 해결할 수 있음\n",
    "  \n",
    "  \n",
    "- 완전탐색, 시뮬레이션 문제가 해당함\n",
    "- 완전탐색은 주어진 모든 경우를 다 계산하는 방법\n",
    "- 시뮬레이션은 주어진 알고리즘을 한 단계식 차례대로 직접 수행하는 경우\n",
    "\n",
    "- C/C++ 로 구현하는 경우 Int형의 범위를 고려해야 하는 문제가 나올 수도 있다\n",
    "- Python의 경우 자료형 크기는 신경쓰지 않아도 되지만 리스트의 메모리 크기를 유의해야 한다.\n",
    "\n",
    "-\n",
    "\n",
    "- 일반적으로 1초, 128MB 제한이 있는 경우 Python은 1초에 2000만번 수행 가능하다 가정한다.\n",
    "```\n",
    "데이터수가 100만 개인 경우 O(nLogn)으로 풀면 약 20,000,000 이므로, 알고리즘의 시간 복잡도를 생각해야한다.\n",
    "```"
   ]
  },
  {
   "cell_type": "markdown",
   "metadata": {},
   "source": [
    "### 상하좌우 예제\n",
    "- 여행가 A는 NxN 정사각형 공간에 서 있다.\n",
    "- 가장 왼쪽 위 좌표는 (1,1)이며 가장 오른쪽 아래 좌표는 (N,N)이다.\n",
    "- A는 상하좌우 방향으로 이동할 수 있으며 시작 좌표는 항상 (1,1)이다.\n",
    "- A의 여행 계획서에는 하나의 줄에 띄어쓰기를 기준으로 하여 L, R, U, D(좌, 우, 상, 하) 중 하나의 문자가 반복적으로 적혀 있다.\n",
    "- A가 NxN의 공간을 벗어나는 경우 해당 움직임은 무시 된다. 예를 들어 (1,1)에서 L, U 를 만나면 무시된다.\n",
    "\n",
    "- 계획서가 주어졌을 때 A 가 최종적으로 도착할 지점의 좌표를 출력하라\n",
    "\n",
    "```\n",
    "1 <= N <= 100\n",
    "1 <= 이동횟수 <= 100\n",
    "입력예시\n",
    "5\n",
    "R R R U D D\n",
    "\n",
    "출력예시\n",
    "4 3\n",
    "```"
   ]
  },
  {
   "cell_type": "markdown",
   "metadata": {},
   "source": [
    "- 연산횟수는 이동횟수에 비례하여 O(N)이므로 넉넉한 편이다.\n",
    "- 명령에 따라 차례로 이동한다는 점에서 시뮬레이션 문제 유형이다."
   ]
  },
  {
   "cell_type": "code",
   "execution_count": 2,
   "metadata": {},
   "outputs": [
    {
     "name": "stdout",
     "output_type": "stream",
     "text": [
      "5\n",
      "['R', 'R', 'R', 'U', 'D', 'D']\n",
      "4 3\n"
     ]
    }
   ],
   "source": [
    "n = int(input())\n",
    "print(n)\n",
    "\n",
    "x, y = 1, 1\n",
    "plans = input().split()\n",
    "print(plans)\n",
    "\n",
    "# L, R, U, D 에 대응\n",
    "dx = [-1, 1, 0, 0]\n",
    "dy = [0, 0, -1, 1]\n",
    "move_types = ['L', 'R', 'U', 'D']\n",
    "\n",
    "for plan in plans:\n",
    "    for i in range(len(move_types)):\n",
    "        if plan == move_types[i]:\n",
    "            nx = x + dx[i]\n",
    "            ny = y + dy[i]\n",
    "    if nx < 1 or nx > n or ny < 1 or ny > n:\n",
    "        continue\n",
    "    \n",
    "    x, y = nx, ny\n",
    "\n",
    "print(x, y)"
   ]
  },
  {
   "cell_type": "markdown",
   "metadata": {},
   "source": [
    "### 시각 예제\n",
    "- 정수 N이 입력되면 00시 00분 00초부터 N시 59분 59초까지의 모든 시각 중에 3이 하나라도 포함되는 모든 경우의 수를 구하는 프로그램을 작성하라\n",
    "- 예를 들어 1을 입력했을 때, 다음은 3이 하나라도 포함되었으므로 세어야 하는 시각이다\n",
    "```\n",
    "00시 00분 03초\n",
    "00시 13분 30초\n",
    "```\n",
    "\n",
    "```\n",
    "0 <=N <=23\n",
    "입력예시\n",
    "5\n",
    "\n",
    "출력예시\n",
    "11457\n",
    "```"
   ]
  },
  {
   "cell_type": "markdown",
   "metadata": {},
   "source": [
    "- 하루는 86,400초로 완전 탐색으로 풀어도 파이썬에서 시간제한에 걸리지 않는다.\n",
    "- 전체 데이터 갯수가 100만개 이하인 경우 완전탐색이 적절하다"
   ]
  },
  {
   "cell_type": "code",
   "execution_count": 3,
   "metadata": {},
   "outputs": [
    {
     "name": "stdout",
     "output_type": "stream",
     "text": [
      "11475\n"
     ]
    }
   ],
   "source": [
    "h = int(input())\n",
    "\n",
    "count = 0\n",
    "\n",
    "for i in range(h + 1):\n",
    "    for j in range(60):\n",
    "        for k in range(60):\n",
    "            if '3' in str(i) + str(j) + str(k):\n",
    "                count += 1\n",
    "\n",
    "print(count)"
   ]
  },
  {
   "cell_type": "markdown",
   "metadata": {},
   "source": [
    "### 왕실 나이트 문제\n",
    "- 8x8 평면 좌표 한 칸에 나이트가 서있다.\n",
    "- 나이트는 L자 형태로 이동하며, 좌표 밖으로는 이동할 수 없다.\n",
    "1. 수평으로 두 칸 이동 후 수직으로 한 칸 이동\n",
    "2. 수직으로 두 칸 이동 후 수평으로 한 칸 이동\n",
    "\n",
    "- 8x8 좌표 평면 상에서 나이트 위치가 주어졌을 때 나이트가 이동할 수 있는 경우의 수를 출력하라\n",
    "- 행 위치는 1~8로 표현하며 열 위치는 a~h로 표현한다\n",
    "- 입력은 열, 행 순서로 전달된다\n",
    "\n",
    "```\n",
    "예를 들어 나이트가 a1에 있는 경우 이동할 수 있는 경우의 수는\n",
    "1. 오른쪽으로 두 칸 이동 후 아래로 한 칸 이동(c2)\n",
    "2. 아래로 두 칸 이동 후 오른쪽으로 한 칸 이동(b3)\n",
    "2가지 이다.\n",
    "\n",
    "c2에 있는 경우 경우의 수는 6가지 이다.\n",
    "```\n",
    "```\n",
    "입력예시\n",
    "a1\n",
    "출력예시\n",
    "2\n",
    "```\n",
    "\n",
    "- 상하좌우 문제와 유사하나, 문자열 처리를 해야 하므로 Python 사용법을 익히고 있어야 한다.\n",
    "- dx, dy 대신 steps로 표현하는 것도 가능하다"
   ]
  },
  {
   "cell_type": "code",
   "execution_count": 5,
   "metadata": {},
   "outputs": [
    {
     "name": "stdout",
     "output_type": "stream",
     "text": [
      "a1\n",
      "2\n"
     ]
    }
   ],
   "source": [
    "input_data = input()\n",
    "print(input_data)\n",
    "\n",
    "row = int(input_data[1])\n",
    "col = ord(input_data[0]) - ord('a') + 1\n",
    "\n",
    "steps = [(-2, 1), (-2, -1), (2, 1), (2, -1), (1, 2), (1, -2), (-1, 2), (-1, -2)]\n",
    "\n",
    "result = 0\n",
    "for step in steps:\n",
    "    next_row = row + step[0]\n",
    "    next_col = col + step[1]\n",
    "\n",
    "    if 1 <= next_row <= 8 and 1 <= next_col <= 8:\n",
    "        result += 1\n",
    "\n",
    "print(result)"
   ]
  },
  {
   "cell_type": "markdown",
   "metadata": {},
   "source": [
    "### 게임 개발 문제\n",
    "- 게임 캐릭터가 맵 안에서 움직이는 시스템을 개발 중이다\n",
    "- 캐릭터는 세로 N x 가로 M 크기의 직사각형 공간에 있으며, 각각의 칸은 육지 또는 바다이다.\n",
    "- 캐릭터는 동서남북 한 곳을 바라본다.\n",
    "- 맵의 각 칸은 (A, B)로 나타내고, A는 북쪽으로 부터 떨어진 칸의 개수, B는 서쪽으로부터 떨어진 칸의 개수이다.\n",
    "- 캐릭터는 상하좌우로 이동하고 바다는 이동할 수 없다.\n",
    "\n",
    "1. 현재 위치에서 현재 방향을 기준으로 왼쪽 방향(반시계 90도 회전 방향)부터 차례대로 갈 곳을 정한다.\n",
    "2. 캐릭터 바로 왼쪽에 가보지 않은 칸이 존재한다면, 왼쪽 방향으로 회전 후 왼쪽으로 한 컨 전진한다. 왼쪽 방향에 가보지 않은 칸이 없다면 왼쪽 방향으로 회전만 수행하고 1단계로 돌아간다.\n",
    "3. 만약 네 방향 모두 이미 가본 칸이거나 바다로 되어 있는 칸인 경우, 바라보는 방향을 유지한 채로 한 칸 뒤로 가고 1단계로 돌아간다. 이때 뒤쪽 방향이 바다인 칸이라 갈 수 없는 경우는 움직임을 멈춘다.\n",
    "\n",
    "- 메뉴얼에 따라 캐릭터를 이동시킨 후 캐릭터가 방문한 칸의 수를 출력하라\n",
    "\n",
    "```\n",
    "입력조건\n",
    "3 <= N, M <= 50\n",
    "\n",
    "캐릭터가 있는 좌표와 바라보는 방향이 공백으로 구분되어 주어진다.\n",
    "0:북, 1:동, 2:남, 3: 서\n",
    "\n",
    "맵이 육지인지 바다인지 정보가 주어진다. 맵의 외곽은 항상 바다이다.\n",
    "0: 육지, 1: 바다\n",
    "\n",
    "입력예시\n",
    "4 4\n",
    "1 1 0\n",
    "1 1 1 1\n",
    "1 0 0 1\n",
    "1 1 0 1\n",
    "1 1 1 1\n",
    "\n",
    "출력예시\n",
    "3\n",
    "```"
   ]
  },
  {
   "cell_type": "markdown",
   "metadata": {},
   "source": [
    "- 전형적인 시뮬레이션 문제이며 성실하게 구현만 하면 된다.\n",
    "- 일반적으로 방향을 설정해서 이동하는 문제는 dx, dy 리스트를 만들어 관리하는 것이 좋다."
   ]
  },
  {
   "cell_type": "code",
   "execution_count": 9,
   "metadata": {},
   "outputs": [
    {
     "name": "stdout",
     "output_type": "stream",
     "text": [
      "4 4\n",
      "1 1 0\n",
      "[[1, 1, 1, 1], [1, 0, 0, 1], [1, 1, 0, 1], [1, 1, 1, 1]]\n",
      "3\n"
     ]
    }
   ],
   "source": [
    "n, m = map(int, input().split())\n",
    "print(n, m)\n",
    "\n",
    "# 방문한 위치 저장용 맵\n",
    "visited = [[0 for i in range(m)] for j in range(n)]\n",
    "\n",
    "# 현재 캐릭터 좌표, 방향\n",
    "x, y, direction = map(int, input().split())\n",
    "print(x, y, direction)\n",
    "visited[y][x] = 1\n",
    "\n",
    "array = []\n",
    "for i in range(n):\n",
    "    array.append(list(map(int, input().split())))\n",
    "print(array)\n",
    "\n",
    "# 북동남서\n",
    "dx = [0, 1, 0, -1]\n",
    "dy = [-1, 0, 1, 0]\n",
    "\n",
    "def turn_left():\n",
    "    global direction\n",
    "    direction -= 1\n",
    "    if direction == -1:\n",
    "        direction = 3\n",
    "\n",
    "count = 1\n",
    "turn_times = 0\n",
    "\n",
    "while True:\n",
    "    turn_left()\n",
    "    nx = x + dx[direction]\n",
    "    ny = y + dy[direction]\n",
    "\n",
    "    if visited[ny][nx] == 0 and array[ny][nx] == 0:\n",
    "        x = nx\n",
    "        y = ny\n",
    "        visited[ny][nx] = 1\n",
    "        count += 1\n",
    "        turn_times = 0\n",
    "    \n",
    "    else:\n",
    "        turn_times += 1\n",
    "\n",
    "    if turn_times == 4: #모두 갈 수 없는 경우 뒤로\n",
    "        nx = x - dx[direction]\n",
    "        ny = y - dy[direction]\n",
    "        if array[ny][nx] == 0:\n",
    "            x = nx\n",
    "            y = ny\n",
    "        else:\n",
    "            break\n",
    "        turn_times = 0\n",
    "\n",
    "print(count)"
   ]
  }
 ],
 "metadata": {
  "interpreter": {
   "hash": "102836169954e04b0f6f2752ac3876316dae8649eaf6d032d6c726b7505673b3"
  },
  "kernelspec": {
   "display_name": "Python 3.9.7 64-bit ('base': conda)",
   "language": "python",
   "name": "python3"
  },
  "language_info": {
   "codemirror_mode": {
    "name": "ipython",
    "version": 3
   },
   "file_extension": ".py",
   "mimetype": "text/x-python",
   "name": "python",
   "nbconvert_exporter": "python",
   "pygments_lexer": "ipython3",
   "version": "3.9.7"
  },
  "orig_nbformat": 4
 },
 "nbformat": 4,
 "nbformat_minor": 2
}
