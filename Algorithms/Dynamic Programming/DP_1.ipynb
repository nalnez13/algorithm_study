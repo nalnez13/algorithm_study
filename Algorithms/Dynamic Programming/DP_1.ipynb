{
 "cells": [
  {
   "cell_type": "markdown",
   "metadata": {},
   "source": [
    "### 동적계획법\n",
    "- 다이나믹 프로그래밍은 다음 조건에서 사용할 수 있다.\n",
    "1. 큰 문제를 작은 문제로 나눌 수 있다.\n",
    "2. 작은 문제에서 구한 정답은 그것을 포함하는 큰 문제에서도 동일하다.\n",
    "\n",
    "- 피보나치 수열을 구하는 경우 이 조건을 만족하는 대표적인 문제이다.\n",
    "- 한 번 구한 결과를 메모리에 저장하고 다시 호출하면 값을 불러오는 메모제이션, 캐싱 방법을 사용한다\n",
    "\n",
    "- 피보나치 수열은 A(n) = A(n-1) + A(n-2), A(1) = A(2) = 1 로 정의된다.\n",
    "- 재귀적으로 풀게되는 경우 동일한 A(N)을 반복해서 계산하게 되어 시간이 무수히 오래 걸릴 수 있다."
   ]
  },
  {
   "cell_type": "code",
   "execution_count": 2,
   "metadata": {},
   "outputs": [
    {
     "name": "stdout",
     "output_type": "stream",
     "text": [
      "218922995834555169026\n"
     ]
    }
   ],
   "source": [
    "d = [0] * 100\n",
    "\n",
    "def fibo(x):\n",
    "    if x == 1 or x == 2:\n",
    "        return 1\n",
    "\n",
    "    if d[x] != 0:\n",
    "        return d[x]\n",
    "    \n",
    "    d[x] = fibo(x-1) + fibo(x - 2)\n",
    "    return d[x]\n",
    "\n",
    "print(fibo(99))"
   ]
  },
  {
   "cell_type": "markdown",
   "metadata": {},
   "source": [
    "- 피보나치 수열을 동적 계획법으로 풀었을 경우 A(N)을 각각 계산하므로 O(N)의 시간 복잡도만 가진다."
   ]
  },
  {
   "cell_type": "code",
   "execution_count": 3,
   "metadata": {},
   "outputs": [
    {
     "name": "stdout",
     "output_type": "stream",
     "text": [
      "f(6) f(5) f(4) f(3) f(2) f(1) f(2) f(3) f(4) 8\n"
     ]
    }
   ],
   "source": [
    "d = [0] * 100\n",
    "\n",
    "def fibo(x):\n",
    "    print(f'f({x})', end=' ')\n",
    "    if x == 1 or x == 2:\n",
    "        return 1\n",
    "\n",
    "    if d[x] != 0:\n",
    "        return d[x]\n",
    "    \n",
    "    d[x] = fibo(x-1) + fibo(x - 2)\n",
    "    return d[x]\n",
    "\n",
    "print(fibo(6))"
   ]
  },
  {
   "cell_type": "markdown",
   "metadata": {},
   "source": [
    "- 재귀함수로 푸는 경우 큰 문제를 해결하기 위해 작은 문제를 호출한다하여 탑 다운 방식이라 한다.\n",
    "- 반대로 반복문을 이용하는 경우 작은 문제부터 풀어가 바텀 업 방식이라 한다."
   ]
  },
  {
   "cell_type": "code",
   "execution_count": 5,
   "metadata": {},
   "outputs": [
    {
     "name": "stdout",
     "output_type": "stream",
     "text": [
      "218922995834555169026\n"
     ]
    }
   ],
   "source": [
    "d = [0] * 100\n",
    "d[1] = 1\n",
    "d[2] = 1\n",
    "\n",
    "n = 99\n",
    "for i in range(3, n + 1):\n",
    "    d[i] = d[i-1] + d[i-2]\n",
    "\n",
    "print(d[n])"
   ]
  },
  {
   "cell_type": "markdown",
   "metadata": {},
   "source": [
    "- 특정 문제를 완전 탐색 방식으로 접근했을 때 시간이 매우 오래 걸리면 다이나믹 프로그래밍을 적용할 수 있는지, 부분문제의 중복 여부를 확인해야 한다.\n",
    "- 가능하다면 재귀함수를 사용하는 탑다운 방식보다 바텀업 구현이 스택 문제가 발생하지 않아 권장된다."
   ]
  },
  {
   "cell_type": "markdown",
   "metadata": {},
   "source": [
    "### 1로 만들기\n",
    "- 정수 X가 주어질 때 X에 사용할 수 있는 연산은 다음 4가지이다.\n",
    "1. X가 5로 나누어 떨어지면 5로 나눈다.\n",
    "2. X가 3으로 나누어 떨어지면 3으로 나눈다\n",
    "3. X가 2로 나누어 떨어지면 2로 나눈다\n",
    "4. X 에서 1을 뺀다\n",
    "\n",
    "- 정수 X가 주어졌을 때 연산 4개를 적절히 사용해 1로 만들려 할때 사용하는 횟수의 최솟값을 출력하라\n",
    "```\n",
    "예를 들어 정수 X=26이면\n",
    "1. 26 - 1 = 25\n",
    "2. 25 / 5 = 5\n",
    "3. 5 / 5 = 1\n",
    "따라서 3회 이다.\n",
    "\n",
    "1<= X <= 30,000\n",
    "```\n",
    "\n",
    "```\n",
    "X = 6 일 떄\n",
    "\n",
    "f(6) -> f(5), f(3), f(2) 중 하나로 이동\n",
    "f(5) -> f(4), f(1)\n",
    "f(3) -> f(2), f(1)\n",
    "f(2) -> f(1), f(1)\n",
    "\n",
    "f(2)와 같이 중복되는 연산이 발생한다\n",
    "\n",
    "아래와 같이 함수 호출 횟수를 구할 수 있다.\n",
    "a(n) = min(a(n-1), a(n//2), a(n//3), a(n//5)) + 1\n",
    "```"
   ]
  },
  {
   "cell_type": "code",
   "execution_count": 8,
   "metadata": {},
   "outputs": [
    {
     "name": "stdout",
     "output_type": "stream",
     "text": [
      "26\n",
      "3\n"
     ]
    }
   ],
   "source": [
    "x = int(input())\n",
    "print(x)\n",
    "\n",
    "d = [0] * 300001\n",
    "\n",
    "# x= 1 인 경우 연산 횟수는 0회. 2 일 때 부터 구한다\n",
    "for i in range(2, x + 1):\n",
    "    # 현재 수에서 1을 빼는 경우\n",
    "    d[i] = d[i - 1] + 1\n",
    "\n",
    "    # 현재 수가 2로 나누어지는 경우\n",
    "    if i % 2 == 0:\n",
    "        d[i] = min(d[i], d[i//2] + 1)\n",
    "    # 현재 수가 3으로 나누어지는 경우\n",
    "    if i % 3 == 0:\n",
    "        d[i] = min(d[i], d[i//3] + 1)\n",
    "    # 현재 수가 5로 나누어지는 경우\n",
    "    if i % 5 == 0:\n",
    "        d[i] = min(d[i], d[i//5] + 1)\n",
    "\n",
    "print(d[x])"
   ]
  },
  {
   "cell_type": "markdown",
   "metadata": {},
   "source": [
    "### 개미전사\n",
    "- 개미 전사가 메뚜기 마을의 식량창고를 몰래 공격하려 한다.\n",
    "- 메뚜기 마을의 식량 창고는 일직선으로 이어져 있다.\n",
    "- 개미는 식량 창고를 선택적으로 약탈할 예정이며, 메뚜기는 서로 인접한 식량 창고가 공격 받으면 바로 알아 챌 수 있다.\n",
    "- 식량 창고 N개의 정보가 주어졌을 때 얻을 수 있는 최대 식량의 양을 구하라\n",
    "\n",
    "```\n",
    "3<= N <= 100\n",
    "\n",
    "식량 창고가 아래와 같이 주어지면\n",
    "[1, 3, 1 ,5]\n",
    "개미전사는 총 8개 식량을 얻을 수 있다.\n",
    "```\n",
    "\n",
    "1. i 번 째 식량 창고에서, i-1을 털 경우 현재 식량 창고를 털 수 없다\n",
    "2. i 번 째 식량 창고에서, i-2을 털 경우 현재 식량 창고를 털 수 있다\n",
    "1, 2 중 더 많은 식량을 털 수 있는 경우를 선택하면 된다.\n",
    "\n",
    "-점화식은 a(i) = max(a(t-1), a(t-2) + k) 이다"
   ]
  },
  {
   "cell_type": "code",
   "execution_count": 11,
   "metadata": {},
   "outputs": [
    {
     "name": "stdout",
     "output_type": "stream",
     "text": [
      "4\n",
      "8\n"
     ]
    }
   ],
   "source": [
    "n = int(input())\n",
    "print(n)\n",
    "\n",
    "array = list(map(int, input().split()))\n",
    "\n",
    "d = [0] * 100\n",
    "d[0] = array[0]\n",
    "d[1] = max(array[0], array[1])\n",
    "for i in range(2, n):\n",
    "    d[i] = max(d[i-1], d[i-2] + array[i])\n",
    "\n",
    "print(d[n-1])"
   ]
  },
  {
   "cell_type": "markdown",
   "metadata": {},
   "source": [
    "### 바닥공사\n",
    "- 가로 길이가 N, 세로 길이가 2인 직사각형의 바닥을 1x2, 2x1, 2x2의 덮개로 채우려 한다.\n",
    "- 바닥을 채우는 모든 경우의 수를 구하라.\n",
    "- 예를 들어 2x3크기의 바닥을 채우는 경우의 수는 5가지이다.\n",
    "\n",
    "```\n",
    "1 <= N <= 1,000\n",
    "출력조건: 2xN의 바닥을 채우는 경우의 수를 796,796으로 나눈 나머지를 출력한다.\n",
    "```\n",
    "1. 왼쪽부터 i - 1 까지 이미 채워져 있으면 2x1로 채우는 하나의 경우의 수만 있다.\n",
    "2. 왼쪽부터 i - 2 까지 이미 채워져 있으면, 1x2 2개, 2x2 1개로 덮는 2가지 경우의 수가 있다. (2x1 로 채우는 경우는 이미 다뤄서 무시하는 듯)\n",
    "- 점화식은 a(n) = a(n-1) + a(n-2)*2"
   ]
  },
  {
   "cell_type": "code",
   "execution_count": 12,
   "metadata": {},
   "outputs": [
    {
     "name": "stdout",
     "output_type": "stream",
     "text": [
      "5\n"
     ]
    }
   ],
   "source": [
    "n = int(input())\n",
    "\n",
    "d = [0] * 1001\n",
    "d[1] = 1\n",
    "d[2] = 3\n",
    "for i in range(3, n+1):\n",
    "    d[i] = d[i - 1] + d[i - 2] * 2\n",
    "\n",
    "print(d[n])"
   ]
  },
  {
   "cell_type": "markdown",
   "metadata": {},
   "source": [
    "### 효율적인 화폐 구성\n",
    "- N가지 종류의 화폐가 있다\n",
    "- 화폐의 개수를 최소한으로 이용해 가치의 합이 M이 되도록 하려 한다.\n",
    "- 예를 들어, 2, 3원 단위의 화폐가 있을 때 15원을 만들기 위해 3원 5개를 사용하는 것이 가장 최소한의 화폐 개수이다.\n",
    "- 최소한의 화폐 개수를 출력하고, 불가능한 경우 -1을 출력한다.\n",
    "\n",
    "```\n",
    "1 <= N <= 100\n",
    "1 <= M <= 10,000\n",
    "\n",
    "입력예\n",
    "2 15\n",
    "2\n",
    "3\n",
    "출력예\n",
    "5\n",
    "입력예\n",
    "3 4\n",
    "3\n",
    "5\n",
    "7\n",
    "출력예\n",
    "-1\n",
    "```\n",
    "- 그리디에서 다룬 거스름돈 문제와 거의 동일하지만 화폐 단위 중 큰 단위가 작은 단위의 배수가 아니므로 그리디 알고리즘으로 풀 수 없다."
   ]
  },
  {
   "cell_type": "markdown",
   "metadata": {},
   "source": [
    "- 금액 i를 만들 수 있는 최소 화폐 개수를 a(i), 화폐 단위를 k라 할 때\n",
    "- a(i-k)를 만드는 방법이 존재하는 경우 a(i) = min(a(i), a(i-k) + 1)\n",
    "- a(i-k)를 만드는 방법이 없는 경우, a(i) = 10,001"
   ]
  },
  {
   "cell_type": "code",
   "execution_count": 14,
   "metadata": {},
   "outputs": [
    {
     "name": "stdout",
     "output_type": "stream",
     "text": [
      "5\n"
     ]
    }
   ],
   "source": [
    "n, m = map(int, input().split())\n",
    "\n",
    "array = []\n",
    "for i in range(n):\n",
    "    array.append(int(input()))\n",
    "\n",
    "d = [10001] * (m + 1)\n",
    "d[0] = 0\n",
    "\n",
    "for i in range(n):\n",
    "    for j in range(array[i], m+1):\n",
    "        # if d[j - array[i]] != 10001:\n",
    "        d[j] = min(d[j], d[j-array[i]] + 1)\n",
    "\n",
    "if d[m] == 10001:\n",
    "    print(-1)\n",
    "else:\n",
    "    print(d[m])"
   ]
  }
 ],
 "metadata": {
  "interpreter": {
   "hash": "9a1ec89fd4e57d564c4c04cf71716d7e381057f7690b602276210aaa54a14d21"
  },
  "kernelspec": {
   "display_name": "Python 3.9.7 64-bit ('base': conda)",
   "language": "python",
   "name": "python3"
  },
  "language_info": {
   "codemirror_mode": {
    "name": "ipython",
    "version": 3
   },
   "file_extension": ".py",
   "mimetype": "text/x-python",
   "name": "python",
   "nbconvert_exporter": "python",
   "pygments_lexer": "ipython3",
   "version": "3.9.7"
  },
  "orig_nbformat": 4
 },
 "nbformat": 4,
 "nbformat_minor": 2
}
