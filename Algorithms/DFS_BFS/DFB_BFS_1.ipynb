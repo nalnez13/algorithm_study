{
 "cells": [
  {
   "cell_type": "markdown",
   "metadata": {},
   "source": [
    "### 자료구조 기초\n",
    "- 스택: 후입선출(LIFO) 구조. list의 append, pop을 이용하면 됨"
   ]
  },
  {
   "cell_type": "code",
   "execution_count": 1,
   "metadata": {},
   "outputs": [
    {
     "name": "stdout",
     "output_type": "stream",
     "text": [
      "[5, 2, 4]\n"
     ]
    }
   ],
   "source": [
    "stack = []\n",
    "stack.append(5)\n",
    "stack.append(2)\n",
    "stack.append(3)\n",
    "stack.pop()\n",
    "stack.append(4)\n",
    "print(stack)"
   ]
  },
  {
   "cell_type": "markdown",
   "metadata": {},
   "source": [
    "- 큐: 선입선출(FIFO)구조. collections의 deque를 사용하여 append, popleft를 사용하는 것이 효율적\n",
    "- list(queue)를 하면 list 로 바꿀 수 있다"
   ]
  },
  {
   "cell_type": "code",
   "execution_count": 2,
   "metadata": {},
   "outputs": [
    {
     "name": "stdout",
     "output_type": "stream",
     "text": [
      "deque([2, 3, 4])\n"
     ]
    }
   ],
   "source": [
    "from collections import deque\n",
    "\n",
    "queue = deque()\n",
    "queue.append(5)\n",
    "queue.append(2)\n",
    "queue.append(3)\n",
    "queue.popleft()\n",
    "queue.append(4)\n",
    "print(queue)"
   ]
  },
  {
   "cell_type": "markdown",
   "metadata": {},
   "source": [
    "### 재귀함수\n",
    "- DFS, BFS를 구현하려면 자기 자신을 호출하는 재귀함수도 이해해야 한다.\n",
    "- 재귀함수는 내부적으로 스택 자료 구조와 동일하며, DFS와 같이 스택을 사용하는 알고리즘은 재귀함수를 통해 쉽게 구현할 수 있다."
   ]
  },
  {
   "cell_type": "markdown",
   "metadata": {},
   "source": [
    "- 팩토리얼 구현 예제\n",
    "- 재귀함수로 구현한 경우 수학의 점화식을 그대로 소스코드로 옮길 수 있어 표현하기 간결하다."
   ]
  },
  {
   "cell_type": "code",
   "execution_count": null,
   "metadata": {},
   "outputs": [],
   "source": [
    "# 반복문 구현\n",
    "def factorial_iterative(n):\n",
    "    result = 1\n",
    "    for i in range(n + 1):\n",
    "        result *= i\n",
    "    return result\n",
    "\n",
    "def factorial_recursive(n):\n",
    "    if n <= 1:\n",
    "        return 1\n",
    "    # n! = n * (n-1)!\n",
    "    return n * factorial_recursive(n - 1)"
   ]
  },
  {
   "cell_type": "markdown",
   "metadata": {},
   "source": [
    "## 탐색 알고리즘 DFS/BFS\n",
    "\n",
    "### 그래프의 표현\n",
    "\n",
    "그래프의 노드 간선을 *인접행렬(Adjacency Matrix)* 로 표현  \n",
    "- 0과 1은 7의 비용으로 연결\n",
    "- 0과 2는 5의 비용으로 연결\n",
    "- 1, 2는 서로 연결되지 않음\n",
    "\n",
    "\n",
    "| |0|1|2|\n",
    "|-|-|-|-|\n",
    "|0|0|7|5|\n",
    "|1|7|0|무한|\n",
    "|2|5|무한|0|"
   ]
  },
  {
   "cell_type": "code",
   "execution_count": 3,
   "metadata": {},
   "outputs": [],
   "source": [
    "# 인접행렬 표현\n",
    "INF = 9999999\n",
    "graph = [\n",
    "    [0, 7, 5],\n",
    "    [7, 0, INF],\n",
    "    [5, INF, 0],\n",
    "]"
   ]
  },
  {
   "cell_type": "markdown",
   "metadata": {},
   "source": [
    "그래프의 노드 간선을 *인접 리스트(Adjacency List)*로 표현"
   ]
  },
  {
   "cell_type": "code",
   "execution_count": 4,
   "metadata": {},
   "outputs": [
    {
     "name": "stdout",
     "output_type": "stream",
     "text": [
      "[[(1, 7), (2, 5)], [(0, 7)], [(0, 5)]]\n"
     ]
    }
   ],
   "source": [
    "# 행이 3인 2차원 리스트로 인접 리스트 표현\n",
    "graph = [[] for _ in range(3)]\n",
    "\n",
    "# 노드 0에 연결된 인접 노드 정보 (노드, 거리)\n",
    "graph[0].append((1, 7))\n",
    "graph[0].append((2, 5))\n",
    "\n",
    "# 노드 1에 연결된 인접 노드 정보 (노드, 거리)\n",
    "graph[1].append((0, 7))\n",
    "\n",
    "# 노드 2에 연결된 인접 노드 정보 (노드, 거리)\n",
    "graph[2].append((0, 5))\n",
    "print(graph)"
   ]
  },
  {
   "cell_type": "markdown",
   "metadata": {},
   "source": [
    "- 인접 행렬의 경우 연결되지 않은 노드 간의 정보도 저장해야하므로 메모리를 낭비한다.\n",
    "- 인접 리스트의 경우 탐색이 느리다.\n",
    "- 예를 들어 노드 1, 7의 연결 정보를 확인하려면 인접 행렬 방식은 graph[1][7]로 바로 확인할 수 있지만, 인접 리스트 방식은 graph[1]의 원소를 순차적으로 확인해야 한다."
   ]
  },
  {
   "cell_type": "markdown",
   "metadata": {},
   "source": [
    "### DFS(Depth-First Search)\n",
    "- 그래프에서 깊은 부분을 우선으로 탐색한다\n",
    "- 스택 자료구조를 사용하여 아래와 같이 구현한다.\n",
    "\n",
    "1. 탐색 시작 노드를 스택에 넣고 방문 처리한다.\n",
    "2. 스택의 최상단 노드에 방문하지 않은 인접 노드가 있으면 스택에 넣고 방문 처리한다. 방문하지 않은 인접 노드가 없으면 스택에서 최상단 노드를 꺼낸다.\n",
    "3. 2번 과정을 수행할 수 없을 때까지 반복한다."
   ]
  },
  {
   "cell_type": "markdown",
   "metadata": {},
   "source": [
    "- DFS는 데이터의 개수가 N개인 경우 O(N)의 시간이 소요된다.\n",
    "- 스택을 사용하므로 재귀함수로 간결하게 표현할 수 있다"
   ]
  },
  {
   "cell_type": "code",
   "execution_count": 7,
   "metadata": {},
   "outputs": [
    {
     "name": "stdout",
     "output_type": "stream",
     "text": [
      "1 2 7 6 8 3 4 5 "
     ]
    }
   ],
   "source": [
    "def dfs(graph, v, visited):\n",
    "    visited[v] = True\n",
    "    print(v, end=' ')\n",
    "\n",
    "    for i in graph[v]:\n",
    "        if not visited[i]:\n",
    "            dfs(graph, i, visited)\n",
    "\n",
    "\n",
    "# 0~8까지 9개의 노드가 있는 그래프의 연결관계를 리스트로 표현\n",
    "graph=[\n",
    "    [],\n",
    "    [2, 3, 8],\n",
    "    [1, 7],\n",
    "    [1, 4, 5],\n",
    "    [3, 5],\n",
    "    [3, 4],\n",
    "    [7],\n",
    "    [2, 6, 8],\n",
    "    [1, 7]\n",
    "]\n",
    "\n",
    "visited = [False] * 9\n",
    "dfs(graph, 1, visited)"
   ]
  },
  {
   "cell_type": "markdown",
   "metadata": {},
   "source": [
    "### BFS(Breadth First Search)\n",
    "- BFS는 너비 우선 탐색으로 가까운 노드부터 탐색하는 알고리즘 이다.\n",
    "- DFS는 최대한 멀리 있는 노드를 우선 탐색하는 것과 반대다.\n",
    "- BFS는 큐를 사용하여 다음과 같이 구현한다.\n",
    "\n",
    "1. 탐색 시작 노드를 큐에 삽입하고 방문 처리를 한다.\n",
    "2. 큐에서 노드를 꺼내 해당 노드의 인접 노드 중에서 방문하지 않은 노드를 모두 큐에 삽입하고 방문 처리 한다.\n",
    "3. 2번 과정을 더 이상 수행할 수 없을 때 까지 반복한다.\n",
    "\n",
    "- deque를 이용하는 것이 좋으며 O(N)의 시간 복잡도를 가진다. 일반적으로는 DFS보다 좋은 편이다.\n",
    "- DFS 는 재귀 함수 구현 시 시간 복잡도에 비해 실제 프로그램 수행 속도가 느려질 수 있어 보통 BFS 구현이 조금 더 빠르다"
   ]
  },
  {
   "cell_type": "code",
   "execution_count": 9,
   "metadata": {},
   "outputs": [
    {
     "name": "stdout",
     "output_type": "stream",
     "text": [
      "1 2 3 8 7 4 5 6 "
     ]
    }
   ],
   "source": [
    "from collections import deque\n",
    "\n",
    "def bfs(graph, start, visited):\n",
    "    queue = deque([start])\n",
    "    visited[start] = True\n",
    "\n",
    "    while queue:\n",
    "        v = queue.popleft()\n",
    "        print(v, end=' ')\n",
    "\n",
    "        for i in graph[v]:\n",
    "            if not visited[i]:\n",
    "                queue.append(i)\n",
    "                visited[i] = True\n",
    "\n",
    "\n",
    "graph=[\n",
    "    [],\n",
    "    [2, 3, 8],\n",
    "    [1, 7],\n",
    "    [1, 4, 5],\n",
    "    [3, 5],\n",
    "    [3, 4],\n",
    "    [7],\n",
    "    [2, 6, 8],\n",
    "    [1, 7]\n",
    "]\n",
    "\n",
    "visited = [False] * 9\n",
    "bfs(graph, 1, visited)"
   ]
  },
  {
   "cell_type": "markdown",
   "metadata": {},
   "source": [
    "- 테스트 중 2차원 배열 맵에서 탐색 문제를 만나면 그래프 형태로 바꿔 DFS/BFS를 적용하면 쉽게 풀 수 있다."
   ]
  },
  {
   "cell_type": "markdown",
   "metadata": {},
   "source": [
    "### 음료수 얼려먹기\n",
    "- NxM 크기의 얼음 틀이 있다. 구멍이 뚫린 부분은 0, 칸막이가 있는 부분은 1로 표시한다.\n",
    "- 구멍이 뚫려 있는 부분끼리 상, 하, 좌, 우로 붙은 경우 서로 연결된 것으로 간주한다.\n",
    "- 얼음 틀의 모양이 주어졌을 때 생성되는 총 아이스크림의 개수를 구하는 프로그램을 작성하라\n",
    "\n",
    "```\n",
    "이 예의 경우 3개의 아이스크림이 생성된다.\n",
    "00110\n",
    "00011\n",
    "11111\n",
    "00000\n",
    "```\n",
    "\n",
    "- DFS를 이용해 풀이한다.\n",
    "1. 특정 지점의 상하좌우를 살펴본 후 주변 지점 중 값이 0이면서 아직 방문하지 않았다면 방문한다.\n",
    "2. 방문 지점에서 다시 상하좌우를 살피면서 방문하면 연결된 모든 지점을 방문할 수 있다.\n",
    "3. 1~2 과정을 모든 노드에 반복하며 방문하지 않은 지점의 수를 센다."
   ]
  },
  {
   "cell_type": "code",
   "execution_count": 11,
   "metadata": {},
   "outputs": [
    {
     "name": "stdout",
     "output_type": "stream",
     "text": [
      "3 3\n",
      "[[0, 0, 1], [0, 1, 0], [1, 0, 1]]\n",
      "3\n"
     ]
    }
   ],
   "source": [
    "n, m = map(int, input().split())\n",
    "print(n, m)\n",
    "\n",
    "graph = []\n",
    "for i in range(n):\n",
    "    graph.append(list(map(int, input().split())))\n",
    "print(graph)\n",
    "\n",
    "def dfs(x, y):\n",
    "    if x <= -1 or x >= n or y <= -1 or y >= m:\n",
    "        return False\n",
    "\n",
    "    if graph[x][y] == 0:\n",
    "        graph[x][y] = 1 # 방문 처리\n",
    "        dfs(x, y+1)\n",
    "        dfs(x, y-1)\n",
    "        dfs(x-1, y)\n",
    "        dfs(x+1, y)\n",
    "        return True\n",
    "    return False\n",
    "\n",
    "result = 0\n",
    "\n",
    "for i in range(n):\n",
    "    for j in range(m):\n",
    "        if dfs(i, j) == True:\n",
    "            result += 1\n",
    "\n",
    "print(result)"
   ]
  },
  {
   "cell_type": "markdown",
   "metadata": {},
   "source": [
    "### 미로 탈출\n",
    "- N x M 의 미로에 괴물이 있어 이를 피해 탈출해야 한다.\n",
    "- 현재 위치는 (1,1) 이고 미로의 출구는 (N, M) 위치에 존재하며, 한 번에 한 칸만 이동할 수 있다.\n",
    "- 괴물이 있는 부분은 0, 없는 부분은 1로 표시되어 있다.\n",
    "- 탈출하기 위해 움직여야하는 최소 칸의 개수를 구하라.\n",
    "- 칸을 셀 때는 시작 칸과 마지막 칸을 모두 포함한다.\n",
    "\n",
    "- BFS 는 시작 지점에서 가까운 노드부터 차례대로 모든 노드를 탐색하기 때문에 효과적이다.\n",
    "- (1, 1) 지점에서 BFS를 수행하여 모든 노드의 값을 거리 정보로 넣는다.\n",
    "\n",
    "```\n",
    "110\n",
    "010\n",
    "011\n",
    "일 때\n",
    "120\n",
    "010\n",
    "011\n",
    "---\n",
    "120\n",
    "030\n",
    "011\n",
    "---\n",
    "120\n",
    "030\n",
    "041\n",
    "---\n",
    "120\n",
    "030\n",
    "045\n",
    "\n",
    "```"
   ]
  },
  {
   "cell_type": "code",
   "execution_count": 16,
   "metadata": {},
   "outputs": [
    {
     "name": "stdout",
     "output_type": "stream",
     "text": [
      "3 3\n",
      "[[1, 1, 0], [0, 1, 0], [0, 1, 1]]\n",
      "5\n"
     ]
    }
   ],
   "source": [
    "from collections import deque\n",
    "\n",
    "n, m = map(int, input().split())\n",
    "print(n, m)\n",
    "\n",
    "graph = []\n",
    "for i in range(n):\n",
    "    graph.append(list(map(int, input().split())))\n",
    "print(graph)\n",
    "\n",
    "dx = [-1, 1, 0, 0]\n",
    "dy = [0, 0, -1, 1]\n",
    "\n",
    "def bfs(x, y):\n",
    "    queue = deque()\n",
    "    queue.append((x, y))\n",
    "\n",
    "    while queue:\n",
    "        x, y = queue.popleft()\n",
    "        for i in range(4):\n",
    "            nx = x + dx[i]\n",
    "            ny = y + dy[i]\n",
    "\n",
    "            if nx < 0 or nx >= n or ny < 0 or ny >= m:\n",
    "                continue\n",
    "            if graph[nx][ny] == 1:\n",
    "                graph[nx][ny] = graph[x][y] + 1\n",
    "                queue.append((nx, ny))\n",
    "    \n",
    "    return graph[n - 1][m - 1] # 오른쪽 하단의 거리 반환\n",
    "\n",
    "print(bfs(0, 0))"
   ]
  }
 ],
 "metadata": {
  "interpreter": {
   "hash": "102836169954e04b0f6f2752ac3876316dae8649eaf6d032d6c726b7505673b3"
  },
  "kernelspec": {
   "display_name": "Python 3.9.7 64-bit ('base': conda)",
   "language": "python",
   "name": "python3"
  },
  "language_info": {
   "codemirror_mode": {
    "name": "ipython",
    "version": 3
   },
   "file_extension": ".py",
   "mimetype": "text/x-python",
   "name": "python",
   "nbconvert_exporter": "python",
   "pygments_lexer": "ipython3",
   "version": "3.9.7"
  },
  "orig_nbformat": 4
 },
 "nbformat": 4,
 "nbformat_minor": 2
}
