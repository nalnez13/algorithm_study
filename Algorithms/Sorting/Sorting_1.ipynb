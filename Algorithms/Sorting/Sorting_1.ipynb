{
 "cells": [
  {
   "cell_type": "markdown",
   "metadata": {},
   "source": [
    "### 정렬 알고리즘\n",
    "- 정렬은 일정 기준으로 데이터를 나열하는 것\n",
    "- 데이터를 정렬하면 이후 이진 탐색이 가능해짐.\n",
    "- 오름차순으로 정렬 후 결과를 Reverse 하면 내림차순 정렬이 가능하며, O(N) 시간 복잡도로 수행 가능함"
   ]
  },
  {
   "cell_type": "markdown",
   "metadata": {},
   "source": [
    "### 선택 정렬(Selection Sort)\n",
    "- 데이터가 무작위로 있을 때 이중 가장 작은 데이터를 맨 앞의 데이터와 바꾼다.\n",
    "- 그 다음 작은 데이터를 앞에서 두 번째 데이터와 바꾼다.\n",
    "- 선택 정렬은 2중 루프로 구현할 수 있으며, O(N2)의 시간 복잡도로 수행가능하다.\n",
    "- 다른 정렬 알고리즘에 비해 매우 비효율적이나, 리스트에서 가장 작은 데이터를 찾는 소스는 자주 사용되니 익숙해질 필요가 있음."
   ]
  },
  {
   "cell_type": "code",
   "execution_count": 2,
   "metadata": {},
   "outputs": [
    {
     "name": "stdout",
     "output_type": "stream",
     "text": [
      "[6, 6, 0, 3, 1, 3, 7, 2, 4, 4]\n",
      "[0, 1, 2, 3, 3, 4, 4, 6, 6, 7]\n"
     ]
    }
   ],
   "source": [
    "import random\n",
    "array = [random.randint(0, 10) for i in range(10)]\n",
    "print(array)\n",
    "\n",
    "for i in range(len(array)):\n",
    "    min_idx = i\n",
    "    for j in range(i + 1, len(array)):\n",
    "        if array[j] < array[min_idx]:\n",
    "            min_idx = j\n",
    "\n",
    "    array[i], array[min_idx] = array[min_idx], array[i]\n",
    "\n",
    "print(array)"
   ]
  },
  {
   "cell_type": "markdown",
   "metadata": {},
   "source": [
    "### 삽입 정렬(Insertion Sort)\n",
    "- 데이터가 거의 정렬되어 있을 때 효율적이다.\n",
    "- 데이터를 특정 위치에 넣기 전에, 그 앞의 데이터는 이미 정렬되어 있다고 가정한다.\n",
    "- 삽입 정렬의 시간 복잡도는 O(N2)인데, 데이터가 거의 정렬 되어 있다면 매우 빠르게 끝나 최선의 경우 O(N)으로 수행된다."
   ]
  },
  {
   "cell_type": "code",
   "execution_count": 3,
   "metadata": {},
   "outputs": [
    {
     "name": "stdout",
     "output_type": "stream",
     "text": [
      "[9, 2, 9, 10, 3, 0, 6, 9, 6, 5]\n",
      "[0, 2, 3, 5, 6, 6, 9, 9, 9, 10]\n"
     ]
    }
   ],
   "source": [
    "import random\n",
    "array = [random.randint(0, 10) for i in range(10)]\n",
    "print(array)\n",
    "\n",
    "for i in range(1, len(array)):\n",
    "    for j in range(i, 0, -1):\n",
    "        if array[j] < array[j-1]:\n",
    "            array[j], array[j-1] = array[j-1], array[j]\n",
    "        else:\n",
    "            break # 자신보다 앞쪽의 데이터가 작다면 이미 앞은 정렬 되어 있으므로 종료\n",
    "\n",
    "print(array)"
   ]
  },
  {
   "cell_type": "markdown",
   "metadata": {},
   "source": [
    "### 퀵 정렬(Quick Sort)\n",
    "- 기준 데이터(Pivot)을 설정하고 기준보다 큰 데이터와 작은 데이터의 위치를 바꾼다.\n",
    "- 작은 값 탐색과 큰 값 탐색의 위치가 엇갈린 경우 피벗과 작은 데이터의 위치를 바꾼다.\n",
    "- 왼쪽, 오른쪽 리스트를 분할하여 다시 피벗을 구하고 반복한다.\n",
    "- 각 리스트의 원소가 1개라면 종료한다.\n",
    "- 퀵 정렬은 재귀함수로 구현가능하다.\n",
    "\n",
    "- 피벗을 처음으로 한 경우 왼쪽부터 큰 데이터를 찾고, 오른쪽부터 작은 데이터를 찾아서 교체한다\n",
    "\n",
    "- 퀵 정렬의 평균 시간 복잡도는 O(NlogN) 이다. 하지만 첫 원소를 피벗으로 한 상태에서 데이터가 거의 정렬 된 상태라면 최악의 경우 O(N2)이 걸린다.\n",
    "- 기본 정렬 라이브러리는 피벗을 결정하는 추가 로직으로 O(NlogN)을 보장한다."
   ]
  },
  {
   "cell_type": "code",
   "execution_count": 2,
   "metadata": {},
   "outputs": [
    {
     "name": "stdout",
     "output_type": "stream",
     "text": [
      "[6, 4, 2, 9, 1, 3, 8, 9, 4, 9]\n",
      "[1, 2, 3, 4, 4, 6, 8, 9, 9, 9]\n"
     ]
    }
   ],
   "source": [
    "import random\n",
    "array = [random.randint(0, 10) for i in range(10)]\n",
    "print(array)\n",
    "\n",
    "def quick_sort(array, start, end):\n",
    "    if start >= end: # 원소가 1개. 종료\n",
    "        return\n",
    "\n",
    "    pivot = start # 첫 원소를 피벗으로 설정\n",
    "    left = start + 1\n",
    "    right = end\n",
    "    while left <= right:\n",
    "        # 피벗보다 큰 데이터를 찾을 때 까지\n",
    "        while left <= end and array[left] <= array[pivot]:\n",
    "            left += 1\n",
    "        # 피벗보다 작은 데이터를 찾을 때 까지\n",
    "        while right > start and array[right] >= array[pivot]:\n",
    "            right -= 1\n",
    "        if left > right: # left, right 가 엇갈린 경우 작은 데이터와 피벗을 교체\n",
    "            array[right], array[pivot] = array[pivot], array[right]\n",
    "        else: # 엇갈리지 않았다면 큰 데이터, 작은 데이터를 교체\n",
    "            array[right], array[left] = array[left], array[right]\n",
    "        \n",
    "    # 분할 완료 이후 오른쪽, 왼쪽에 대해 각각 정렬 수행\n",
    "    quick_sort(array, start, right - 1)\n",
    "    quick_sort(array, right + 1, end)\n",
    "\n",
    "quick_sort(array, 0, len(array)-1)\n",
    "print(array)\n"
   ]
  },
  {
   "cell_type": "code",
   "execution_count": 6,
   "metadata": {},
   "outputs": [
    {
     "name": "stdout",
     "output_type": "stream",
     "text": [
      "[1, 5, 4, 4, 7, 6, 4, 2, 10, 10]\n",
      "[1, 2, 4, 4, 4, 5, 6, 7, 10, 10]\n"
     ]
    }
   ],
   "source": [
    "# Python 코드를 활용한 버전\n",
    "import random\n",
    "array = [random.randint(0, 10) for i in range(10)]\n",
    "print(array)\n",
    "\n",
    "def quick_sort(array):\n",
    "    if len(array) <= 1:\n",
    "        return array\n",
    "\n",
    "    pivot = array[0]\n",
    "    tail = array[1:]\n",
    "    left = [x for x in tail if x <= pivot]\n",
    "    right = [x for x in tail if x > pivot]\n",
    "    return quick_sort(left) + [pivot] + quick_sort(right)\n",
    "\n",
    "print(quick_sort(array))"
   ]
  },
  {
   "cell_type": "markdown",
   "metadata": {},
   "source": [
    "### 계수 정렬(Count Sort)\n",
    "- 특정 조건이 부합할 때만 사용할 수 있지만 매우 빠르다.\n",
    "- 모든 데이터가 양의 정수일 때 데이터의 개수가 N, 최댓값이 K 일 때 최악의 경우 O(N + K)를 보장한다.\n",
    "- 계수 정렬은 데이터의 크기 범위가 정수 형태로 표현 가능할 때만 사용할 수 있다.\n",
    "- 값이 무한한 범위를 가지는 실수형 데이터는 사용하기 어렵다.\n",
    "- 계수 정렬을 사용할 때는 모든 범위를 담을 수 있는 크기의 리스트를 선언해야 하기 때문\n",
    "\n",
    "```\n",
    "예를 들어\n",
    "데이터가 0 ~ 9 범위일 때\n",
    "크기가 10인 배열을 0으로 초기화 한다.\n",
    "각 데이터를 순회하면서 데이터 값과 동일한 인덱스의 값을 1씩 증가하면 계수 정렬이 완료된다.\n",
    "arr = [7 5 9]\n",
    "sort=[0, 0 ,0 ,0 ,0 ,0 ,0 ,0 ,0] -> [0, 0, 0, 0, 0, 1, 0, 1, 0, 9]\n",
    "sort 데이터 자체가 정렬된 형태이며, 기록된 횟수만큼 출력하면 정렬된 결과를 확인할 수 있다.\n",
    "```\n",
    "\n",
    "- 계수정렬은 데이터가 0, 9999999 단 두 개만 있는 등, 경우에 따라 매우 비효율적이다.\n",
    "- 동일한 값을 가지는 데이터가 여러 번 등장할 때 적합하다.\n",
    "- 퀵 정렬은 일반적인 경우에도 평균적으로 빠르기 때문에 데이터 특성을 파악하기 어려우면 퀵 정렬을 사용한다."
   ]
  },
  {
   "cell_type": "code",
   "execution_count": 10,
   "metadata": {},
   "outputs": [
    {
     "name": "stdout",
     "output_type": "stream",
     "text": [
      "[3, 0, 9, 2, 10, 6, 2, 0, 2, 1]\n",
      "0 0 1 2 2 2 3 6 9 10 "
     ]
    }
   ],
   "source": [
    "import random\n",
    "array = [random.randint(0, 10) for i in range(10)]\n",
    "print(array)\n",
    "\n",
    "count = [0] * (max(array) + 1)\n",
    "\n",
    "for data in array:\n",
    "    count[data] += 1\n",
    "    \n",
    "for i in range(len(count)):\n",
    "    for j in range(count[i]):\n",
    "        print(i, end=' ')"
   ]
  },
  {
   "cell_type": "markdown",
   "metadata": {},
   "source": [
    "### 위에서 아래로\n",
    "- 하나의 수열에는 다앙한 수가 존재한다.\n",
    "- 이러한 수는 크기에 상관없이 나열되어 있다.\n",
    "- 이 수를 큰 수부터 작은 수의 순서로 정렬하는 프로그램을 작성\n",
    "\n",
    "```\n",
    "1 <= N <= 100\n",
    "수의 범위는 1 이상 100,000 이하의 자연수\n",
    "\n",
    "입력예시 \n",
    "3\n",
    "15\n",
    "27\n",
    "12\n",
    "\n",
    "출력예시\n",
    "27 15 12\n",
    "```"
   ]
  },
  {
   "cell_type": "code",
   "execution_count": 11,
   "metadata": {},
   "outputs": [
    {
     "name": "stdout",
     "output_type": "stream",
     "text": [
      "[27, 15, 12]\n"
     ]
    }
   ],
   "source": [
    "n = int(input())\n",
    "\n",
    "array = []\n",
    "for i in range(n):\n",
    "    array.append(int(input()))\n",
    "\n",
    "array = sorted(array, reverse=True)\n",
    "print(array)"
   ]
  },
  {
   "cell_type": "markdown",
   "metadata": {},
   "source": [
    "### 성적이 낮은 순서로 학생 출력하기\n",
    "- N명의 학생 정보가 있다.\n",
    "- 학생 정보는 이름과 성적으로 구분된다.\n",
    "- 성적이 낮은 순서대로 학생의 이름을 출력\n",
    "\n",
    "```\n",
    "1<=N<=100,000\n",
    "입력예시\n",
    "2\n",
    "홍길동 95\n",
    "이순신 77\n",
    "\n",
    "출력예시\n",
    "이순신 홍길동\n",
    "```\n",
    "- 학생의 수가 최대 100,000명이므로 O(NlogN)을 보장하는 알고리즘을 사용하거나 O(N)을 보장하는 계수 정렬을 사용한다"
   ]
  },
  {
   "cell_type": "code",
   "execution_count": 13,
   "metadata": {},
   "outputs": [
    {
     "name": "stdout",
     "output_type": "stream",
     "text": [
      "[('이순신', 77), ('홍길동', 95)]\n"
     ]
    }
   ],
   "source": [
    "n = int(input())\n",
    "\n",
    "array = []\n",
    "for i in range(n):\n",
    "    input_data = input().split()\n",
    "    array.append((input_data[0], int(input_data[1])))\n",
    "\n",
    "array = sorted(array, key=lambda x:x[1])\n",
    "print(array)"
   ]
  },
  {
   "cell_type": "markdown",
   "metadata": {},
   "source": [
    "### 두 배열의 원소 교체\n",
    "- 두 배열 A, B는 N개 원소로 구성되어 있으며 각 원소는 모두 자연수이다.\n",
    "- 최대 K번의 바뀌치기 연산을 수행할 수 있는데, 바꿔치기 연산은 A, B 원소를 서로 바꾸는 것을 말한다.\n",
    "- N, K, A, B 가 주어졌을 때 A 배열의 원소의 합의 최대값을 출력하라\n",
    "\n",
    "```\n",
    "예\n",
    "A = [1, 2, 5, 4, 3]\n",
    "B = [5, 5, 6, 6, 5]\n",
    "K = 3\n",
    "1. A 1과 B 6을 바꾸기\n",
    "2. A 2와 B 6을 바꾸기\n",
    "3. A 3과 B 5를 바꾸기\n",
    "\n",
    "세 번 연산 후\n",
    "A = [6, 6, 5, 4, 5]\n",
    "B = [3, 5, 1, 2, 5]\n",
    "이므로 합은 26이다\n",
    "```\n",
    "\n",
    "- 배열 A는 오름차순으로, 배열 B는 내림차순으로 정렬한다.\n",
    "- 각 배열을 처음부터 비교하면서 A의 원소가 B보다 작으면 교체한다."
   ]
  },
  {
   "cell_type": "code",
   "execution_count": 16,
   "metadata": {},
   "outputs": [
    {
     "name": "stdout",
     "output_type": "stream",
     "text": [
      "5 3\n",
      "[1, 2, 5, 4, 3]\n",
      "[5, 5, 6, 6, 5]\n",
      "26\n"
     ]
    }
   ],
   "source": [
    "n, k = map(int, (input().split()))\n",
    "print(n, k)\n",
    "\n",
    "a = list(map(int, input().split()))\n",
    "b = list(map(int, input().split()))\n",
    "\n",
    "print(a)\n",
    "print(b)\n",
    "\n",
    "a.sort()\n",
    "b.sort(reverse=True)\n",
    "\n",
    "for i in range(k):\n",
    "    if a[i] < b[i]:\n",
    "        a[i], b[i] = b[i], a[i]\n",
    "    else:\n",
    "        break\n",
    "print(sum(a))"
   ]
  }
 ],
 "metadata": {
  "interpreter": {
   "hash": "fe539dd1e82c2ed25be7d2abc4e285603849b68eb77576c7741c324c60365d77"
  },
  "kernelspec": {
   "display_name": "Python 3.9.5 64-bit",
   "language": "python",
   "name": "python3"
  },
  "language_info": {
   "codemirror_mode": {
    "name": "ipython",
    "version": 3
   },
   "file_extension": ".py",
   "mimetype": "text/x-python",
   "name": "python",
   "nbconvert_exporter": "python",
   "pygments_lexer": "ipython3",
   "version": "3.9.5"
  },
  "orig_nbformat": 4
 },
 "nbformat": 4,
 "nbformat_minor": 2
}
