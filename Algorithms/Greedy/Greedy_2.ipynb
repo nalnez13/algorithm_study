{
 "cells": [
  {
   "cell_type": "markdown",
   "metadata": {},
   "source": [
    "### 모험가 길드 문제\n",
    "- 마을에 모험가 N명이 있다.\n",
    "- 공포도가 높은 모험가는 쉽게 공포를 느껴 위험상황에 대처 능력이 떨어진다.\n",
    "- 공포도가 X인 모험가는 반드시 X명 이상으로 구성하도록 한다.\n",
    "- N명의 모험가 정보가 주어졌을 때 최대 그룹 수를 구하라\n",
    "\n",
    "```\n",
    "입력예시\n",
    "5 (N<= 100,000)\n",
    "2 3 1 2 2 (공포도)\n",
    "출력예시\n",
    "2\n",
    "```"
   ]
  },
  {
   "cell_type": "code",
   "execution_count": 4,
   "metadata": {},
   "outputs": [
    {
     "name": "stdout",
     "output_type": "stream",
     "text": [
      "5\n",
      "[2, 3, 1, 2, 2]\n",
      "2\n"
     ]
    }
   ],
   "source": [
    "n = int(input())\n",
    "fears = list(map(int, input().split()))\n",
    "print(n)\n",
    "print(fears)\n",
    "\n",
    "fears.sort()\n",
    "\n",
    "result = 0\n",
    "counts = 0\n",
    "for f in fears:\n",
    "    counts += 1\n",
    "    if counts >= f:\n",
    "        result += 1\n",
    "        counts = 0\n",
    "\n",
    "print(result)\n"
   ]
  },
  {
   "cell_type": "markdown",
   "metadata": {},
   "source": [
    "### 곱하기 혹은 더하기 문제\n",
    "- 각 자리가 0 ~ 9 로만 이루어진 문자열 S가 주어졌을 때 왼쪽부터 오른쪽으로 모든 숫자를 확인하며 숫자 사이에 x, + 연산자를 넣어 가장 큰 수를 구하라\n",
    "- 단, x, + 연산 순서는 일반적인 방식과 달리 왼쪽에서 오른쪽으로 순서대로 수행한다.\n",
    "```\n",
    "입력예시\n",
    "02984\n",
    "출력예시\n",
    "576\n",
    "\n",
    "입력예시\n",
    "567\n",
    "출력예시\n",
    "210\n",
    "```"
   ]
  },
  {
   "cell_type": "code",
   "execution_count": 7,
   "metadata": {},
   "outputs": [
    {
     "name": "stdout",
     "output_type": "stream",
     "text": [
      "210\n"
     ]
    }
   ],
   "source": [
    "# 0이 아니라면 무조건 곱하는게 이득이다.\n",
    "# 1은 더하기가 더 크다\n",
    "\n",
    "s = input()\n",
    "\n",
    "result = 1\n",
    "\n",
    "for n in s:\n",
    "    n = int(n)\n",
    "    if n == 0 or n == 1:\n",
    "        result += n\n",
    "    else:\n",
    "        result *= n\n",
    "\n",
    "print(result)"
   ]
  },
  {
   "cell_type": "markdown",
   "metadata": {},
   "source": [
    "### 문자열 뒤집기\n",
    "- 0과 1로만 이루어진 문자열 S를 가지고 있다.\n",
    "- 이 문자열에 있는 모든 숫자를 전부 같게 만드려 한다.\n",
    "- 할 수 있는 행동은 S에서 연속된 하나 이상의 숫자를 잡고 모두 뒤집는 것이다.\n",
    "- 뒤집는 것은, 0은 1로, 0을 1로 바꾸는 것이다.\n",
    "```\n",
    "예를 들어 S = 00011000 일 때\n",
    "1. 전체를 뒤집으면 11100111 이 된다.\n",
    "2. 4번째, 5번째를 뒤집으면 11111111 이 되어 2번 만에 모두 같은 숫자가 된다.\n",
    "\n",
    "1. 4, 5 번째를 뒤집으면 한번에 00000000이 된다.\n",
    "\n",
    "```\n",
    "- S가 주어졌을 때 해야하는 행동의 최소 횟수를 출력하라."
   ]
  },
  {
   "cell_type": "code",
   "execution_count": 16,
   "metadata": {},
   "outputs": [
    {
     "name": "stdout",
     "output_type": "stream",
     "text": [
      "2\n"
     ]
    }
   ],
   "source": [
    "s = input()\n",
    "\n",
    "change0 = 0\n",
    "change1 = 0\n",
    "\n",
    "if s[0] == '1':\n",
    "    change0 += 1\n",
    "else:\n",
    "    change1 += 1\n",
    "\n",
    "for i in range(len(s)-1):\n",
    "    n = s[i]\n",
    "    if n != s[i+1]:\n",
    "        if s[i+1] == '1':\n",
    "            change0 += 1\n",
    "        else:\n",
    "            change1 += 1\n",
    "\n",
    "print(min(change0, change1))"
   ]
  },
  {
   "cell_type": "markdown",
   "metadata": {},
   "source": [
    "### 만들 수 없는 금액\n",
    "- N개 동전을 가지고 있다.\n",
    "- N개 동전으로 만들 수 없는 양의 정수 중 최솟값을 구하라.\n",
    "```\n",
    "예를 들어 N=5, 각 동전이 3,2,1,1,9원 일 때 만들 수 없는 최솟값은 8 이다.\n",
    "\n",
    "\n",
    "입력예시\n",
    "5 (N <= 1,000)\n",
    "3 2 1 1 9 (화폐 단위는 1,000,000 이하의 자연수)\n",
    "```"
   ]
  },
  {
   "cell_type": "code",
   "execution_count": 17,
   "metadata": {},
   "outputs": [
    {
     "name": "stdout",
     "output_type": "stream",
     "text": [
      "5 [3, 2, 1, 1, 9]\n",
      "8\n"
     ]
    }
   ],
   "source": [
    "n = int(input())\n",
    "money = list(map(int, input().split()))\n",
    "print(n, money)\n",
    "\n",
    "money.sort()\n",
    "\n",
    "target = 1\n",
    "for x in money:\n",
    "    if target < x:\n",
    "        break\n",
    "    target += x\n",
    "    \n",
    "print(target)\n"
   ]
  },
  {
   "cell_type": "markdown",
   "metadata": {},
   "source": [
    "### 볼링공 고르기\n",
    "- A, B가 서로 무게가 다른 볼링공을 고르려 한다.\n",
    "- 총 N개의 볼링공이 있으며, 번호는 1번부터 부여된다.\n",
    "- 같은 무게의 공이 있을 수 있으나, 다른 공으로 간주한다.\n",
    "- 무게는 1부터 M까지 자연수 형태이다.\n",
    "```\n",
    "N=5, M=3, 무게가 1, 3 ,2, 3, 2 일 때 \n",
    "두 사람이 고를 수 있는 볼링공 번호의 조합을 구하면\n",
    "8개 경우의 수가 나온다.\n",
    "\n",
    "```\n",
    "- N개 무게가 주어질 때 볼링공을 고르는 경우의 수를 구하라.\n",
    "\n",
    "1 <= N <= 1,000, 1 <= M <= 10\n",
    "\n",
    "```\n",
    "입력예시\n",
    "5 3\n",
    "1 3 2 3 2\n",
    "출력예시\n",
    "8\n",
    "```"
   ]
  },
  {
   "cell_type": "code",
   "execution_count": 19,
   "metadata": {},
   "outputs": [
    {
     "name": "stdout",
     "output_type": "stream",
     "text": [
      "5 3\n",
      "8\n"
     ]
    }
   ],
   "source": [
    "n, m = map(int, input().split())\n",
    "print(n, m)\n",
    "\n",
    "array = [0] * 11\n",
    "weights = list(map(int, input().split()))\n",
    "\n",
    "for w in weights:\n",
    "    array[w] += 1\n",
    "\n",
    "result = 0\n",
    "for i in range(1, n + 1):\n",
    "    n -= array[i]\n",
    "    result += n * array[i]\n",
    "\n",
    "print(result)"
   ]
  }
 ],
 "metadata": {
  "interpreter": {
   "hash": "9a1ec89fd4e57d564c4c04cf71716d7e381057f7690b602276210aaa54a14d21"
  },
  "kernelspec": {
   "display_name": "Python 3.9.7 64-bit ('base': conda)",
   "language": "python",
   "name": "python3"
  },
  "language_info": {
   "codemirror_mode": {
    "name": "ipython",
    "version": 3
   },
   "file_extension": ".py",
   "mimetype": "text/x-python",
   "name": "python",
   "nbconvert_exporter": "python",
   "pygments_lexer": "ipython3",
   "version": "3.9.7"
  },
  "orig_nbformat": 4
 },
 "nbformat": 4,
 "nbformat_minor": 2
}
