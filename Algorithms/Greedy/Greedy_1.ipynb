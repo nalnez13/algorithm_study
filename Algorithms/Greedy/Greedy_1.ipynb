{
 "cells": [
  {
   "cell_type": "markdown",
   "metadata": {},
   "source": [
    "## Greedy\n",
    "\n",
    "- 현재 가장 좋은 것만 선택하는 알고리즘\n",
    "- 현재 선택이 나중에 미치는 영향은 고려하지 않아도 됨\n",
    "- 가장 큰 순서, 가장 작은 순서 등 문제에 기준이 있고, 정렬 알고리즘과 자주 짝지어짐"
   ]
  },
  {
   "cell_type": "markdown",
   "metadata": {},
   "source": [
    "### 거스름돈 예제\n",
    "거스름돈으로 사용할 잔돈 500, 100, 50, 10 원이 무한히 있을 때, 손님에게 N원을 거슬러줘야 하는 경우 거슬러줘야 하는 동전의 최소 개수 구하기  \n",
    "단, N은 항상 10의 배수  \n",
    "\n",
    "이 문제는 잔돈의 종류 K에 대해 시간 복잡도 O(K) 를 가지며, N과는 무관함"
   ]
  },
  {
   "cell_type": "code",
   "execution_count": 1,
   "metadata": {},
   "outputs": [
    {
     "name": "stdout",
     "output_type": "stream",
     "text": [
      "6\n"
     ]
    }
   ],
   "source": [
    "n = 1260\n",
    "coins = [500, 100, 50, 10]\n",
    "count = 0\n",
    "\n",
    "for coin in coins:\n",
    "    count += n // coin\n",
    "    n %= coin\n",
    "\n",
    "print(count)"
   ]
  },
  {
   "cell_type": "markdown",
   "metadata": {},
   "source": [
    "- Greedy 문제는 항상 최적의 해가 나온다는 보장이 없음\n",
    "- 거스름돈 단위가 500, 400, 100 원인 경우, 800원을 거슬러주는 경우엔 400 * 2가 최적이나 위 방식으로 풀면 그렇지 않음.\n",
    "- 화폐의 단위가 무작위로 주어지는 문제는 다이나믹 프로그래밍으로 해결할 수 있음"
   ]
  },
  {
   "cell_type": "markdown",
   "metadata": {},
   "source": [
    "### 큰 수의 법칙 문제\n",
    "\n",
    "- 다양한 수로 이루어진 배열이 있을 때 주어진 수를 M 번 더하여 가장 큰 수를 만드는 법칙\n",
    "- 단, 배열의 특정 인덱스에 해당하는 수가 연속 K번을 초과하여 더할 수는 없음\n",
    "\n",
    "```\n",
    "예를 들어, [2, 4, 5, 4, 6 ] 인 배열이 있을 때 M이 8이고, K가 3인 경우\n",
    "답은 6+6+6+5+6+6+6+5 = 46이 된다\n",
    "```\n",
    "\n",
    "- 단, 서로 다른 인덱스에 해당하는 수가 같은 경우에도 서로 다른 것으로 간주한다.\n",
    "\n",
    "```\n",
    "예를 들어, [3, 4, 3, 4, 3] 인 배열, M=7, K=2 인 경우\n",
    "두 번째 4, 네번째를 번갈아 더하는 것이 가능하므로\n",
    "4+4+4+4+4+4+4 = 28 이 답\n",
    "```\n",
    "\n",
    "- 배열 크기 N, 숫자가 더해지는 횟수 M, K가 주어질 때 큰 수의 법칙에 따른 결과를 출력\n",
    "\n",
    "```\n",
    "입력 예시\n",
    "5 8 3\n",
    "2 4 5 4 6\n",
    "\n",
    "출력 예시\n",
    "46\n",
    "```"
   ]
  },
  {
   "cell_type": "markdown",
   "metadata": {},
   "source": [
    "- 가장 큰 수, 두 번째로 큰 수를 찾은 후 가장 큰 수를 K번 더하고 두 번째 큰 수를 한 번 더하는 것을 반복하면 됨"
   ]
  },
  {
   "cell_type": "code",
   "execution_count": 6,
   "metadata": {},
   "outputs": [
    {
     "name": "stdout",
     "output_type": "stream",
     "text": [
      "5 8 3\n",
      "[2, 4, 5, 4, 6]\n",
      "46\n"
     ]
    }
   ],
   "source": [
    "n, m, k = map(int, input().split())\n",
    "print(n, m, k)\n",
    "\n",
    "data = list(map(int, input().split()))\n",
    "print(data)\n",
    "\n",
    "data.sort()\n",
    "first = data[n - 1]\n",
    "second = data[n - 2]\n",
    "\n",
    "result = 0\n",
    "while True:\n",
    "    for i in range(k):\n",
    "        if m == 0:\n",
    "            break\n",
    "        result += first\n",
    "        m -= 1\n",
    "    if m == 0:\n",
    "        break\n",
    "    result += second\n",
    "    m -= 1\n",
    "\n",
    "print(result)"
   ]
  },
  {
   "cell_type": "markdown",
   "metadata": {},
   "source": [
    "- M이 100억 이상 커진다면 시간 초과 될 수 있음\n",
    "- 수학적 아이디어로 풀게 된다면\n",
    "```\n",
    "[2, 4, 5, 4, 6] 이 주어진 경우\n",
    "M = 8, K = 3 이라면\n",
    "(6+6+6+5) + (6+6+6+5) = 46\n",
    "으로 반복되어 풀리게 된다.\n",
    "\n",
    "(K+1)의 길이인 수열 (6+6+6+5)가 M // (K + 1) 만큼 반복된다.\n",
    "가장 큰 수가 반복되는 횟수는 K를 곱한 것이고, M이 K+1로 나누어떨어지지 않는 경우를 고려하면\n",
    "\n",
    "가장 큰 수가 더해지는 횟수는\n",
    "(M // (K + 1)) * K + M % (K + 1) 이다\n",
    "```"
   ]
  },
  {
   "cell_type": "code",
   "execution_count": 7,
   "metadata": {},
   "outputs": [
    {
     "name": "stdout",
     "output_type": "stream",
     "text": [
      "5 8 3\n",
      "[2, 4, 5, 4, 6]\n",
      "46\n"
     ]
    }
   ],
   "source": [
    "n, m, k = map(int, input().split())\n",
    "print(n, m, k)\n",
    "\n",
    "data = list(map(int, input().split()))\n",
    "print(data)\n",
    "\n",
    "data.sort()\n",
    "first = data[n - 1]\n",
    "second = data[n - 2]\n",
    "\n",
    "count = (m // (k + 1)) * k + m % (k + 1)\n",
    "result = 0\n",
    "result += count * first\n",
    "result += (m - count) * second\n",
    "\n",
    "print(result)"
   ]
  },
  {
   "cell_type": "markdown",
   "metadata": {},
   "source": [
    "### 숫자 카드 게임\n",
    "- 여러 개의 숫자 카드 중 가장 높은 숫자가 쓰인 카드 한 장을 뽑는 게임\n",
    "- 숫자가 쓰인 카드가 N x M 형태로 놓여 있음\n",
    "- 먼저 뽑고자 하는 카드가 포함된 행을 선택한다\n",
    "- 그 다음 선택된 행에 포함된 카드 중 가장 숫자가 낮은 카드를 뽑아야 한다\n",
    "- 따라서 처음 카드를 골라낼 행을 선택할 때 최종적으로 가장 높은 숫자의 카드를 뽑을 수 있도록 전략을 세워야 한다.\n",
    "\n",
    "- N, M, 카드 숫자가 입력되면 룰에 맞게 선택한 카드에 적힌 숫자를 출력한다.\n",
    "```\n",
    "입력예시\n",
    "3 3\n",
    "3 1 2\n",
    "4 1 4\n",
    "2 2 2\n",
    "\n",
    "출력예시\n",
    "2\n",
    "\n",
    "입력예시\n",
    "2 4\n",
    "7 3 1 8\n",
    "3 3 3 4\n",
    "\n",
    "출력예시\n",
    "3\n",
    "\n",
    "```\n"
   ]
  },
  {
   "cell_type": "markdown",
   "metadata": {},
   "source": [
    "- 각 행마다 가장 작은 수를 찾은 후 그 중 가장 큰 수를 찾으면 된다"
   ]
  },
  {
   "cell_type": "code",
   "execution_count": 10,
   "metadata": {},
   "outputs": [
    {
     "name": "stdout",
     "output_type": "stream",
     "text": [
      "3 3\n",
      "[3, 1, 2]\n",
      "[4, 1, 4]\n",
      "[2, 2, 2]\n",
      "2\n"
     ]
    }
   ],
   "source": [
    "# 배열에 min을 사용하는 경우\n",
    "n, m = map(int, input().split())\n",
    "print(n, m)\n",
    "result = 0\n",
    "\n",
    "for i in range(n):\n",
    "    data = list(map(int, input().split()))\n",
    "    print(data)\n",
    "    min_value = min(data)\n",
    "    result = max(result, min_value)\n",
    "\n",
    "print(result)"
   ]
  },
  {
   "cell_type": "code",
   "execution_count": 11,
   "metadata": {},
   "outputs": [
    {
     "name": "stdout",
     "output_type": "stream",
     "text": [
      "2 4\n",
      "[7, 3, 1, 8]\n",
      "[3, 3, 3, 4]\n",
      "3\n"
     ]
    }
   ],
   "source": [
    "# 2중 Loop를 사용하는 경우\n",
    "n, m = map(int, input().split())\n",
    "print(n, m)\n",
    "result = 0\n",
    "\n",
    "for i in range(n):\n",
    "    data = list(map(int, input().split()))\n",
    "    print(data)\n",
    "    min_value = 1001\n",
    "    for v in data:\n",
    "        min_value = min(min_value, v)\n",
    "    result = max(result, min_value)\n",
    "\n",
    "print(result)"
   ]
  },
  {
   "cell_type": "markdown",
   "metadata": {},
   "source": [
    "### 1이 될 때까지\n",
    "- 어떤 수 N이 1이 될 때까지 다음 두 과정 중 하나를 반복적으로 수행한다.\n",
    "- 단, 두 번째 연산은 N이 K로 나누어 떨어질 때만 선택할 수 있다.\n",
    "\n",
    "1. N에서 1을 뺀다\n",
    "2. N을 K로 나눈다\n",
    "\n",
    "- 예를 들어 N=17, K=4 일 때 1번 과정 후 N은 16, 2번 과정을 두 번 수행하면 N 은 1이 되어 3번 실행한다.\n",
    "- N, K가 주어질 때 N이 1이 될 때까지 1, 2 번 과정을 수행하는 최소 횟수를 구하라\n",
    "```\n",
    "입력예시\n",
    "25 5\n",
    "\n",
    "출력 예시\n",
    "2\n",
    "```"
   ]
  },
  {
   "cell_type": "markdown",
   "metadata": {},
   "source": [
    "- k가 2이상 정수 이므로 1을 빼는 것 보다 항상 더 빠르게 N을 줄일 수 있다.\n",
    "- 최대한 많이 나누기로 생각하면 됨\n",
    "- N을 K의 배수가 될 때까지 1씩 빼고\n",
    "- N을 K로 나누기"
   ]
  },
  {
   "cell_type": "code",
   "execution_count": 12,
   "metadata": {},
   "outputs": [
    {
     "name": "stdout",
     "output_type": "stream",
     "text": [
      "25 5\n",
      "2\n"
     ]
    }
   ],
   "source": [
    "n, k = map(int, input().split())\n",
    "print(n, k)\n",
    "result = 0\n",
    "\n",
    "while n >= k:\n",
    "    while n % k != 0:\n",
    "        n -= 1\n",
    "        result += 1\n",
    "    n //= k\n",
    "    result += 1\n",
    "\n",
    "while n > 1:\n",
    "    n -= 1\n",
    "    result += 1\n",
    "\n",
    "print(result)"
   ]
  },
  {
   "cell_type": "markdown",
   "metadata": {},
   "source": [
    "- N이 100억 이상인 경우에는 N이 K의 배수가 되도록 한 번에 빼는 방식을 구현한다"
   ]
  },
  {
   "cell_type": "code",
   "execution_count": 15,
   "metadata": {},
   "outputs": [
    {
     "name": "stdout",
     "output_type": "stream",
     "text": [
      "25 5\n",
      "2\n"
     ]
    }
   ],
   "source": [
    "n, k = map(int, input().split())\n",
    "print(n, k)\n",
    "result = 0\n",
    "\n",
    "while True:\n",
    "    target = (n // k) * k\n",
    "    result += (n - target)\n",
    "    n = target\n",
    "    if n < k:\n",
    "        break\n",
    "\n",
    "    n //= k\n",
    "    result += 1\n",
    "\n",
    "result += (n - 1)\n",
    "print(result)"
   ]
  }
 ],
 "metadata": {
  "interpreter": {
   "hash": "102836169954e04b0f6f2752ac3876316dae8649eaf6d032d6c726b7505673b3"
  },
  "kernelspec": {
   "display_name": "Python 3.9.7 64-bit ('base': conda)",
   "language": "python",
   "name": "python3"
  },
  "language_info": {
   "codemirror_mode": {
    "name": "ipython",
    "version": 3
   },
   "file_extension": ".py",
   "mimetype": "text/x-python",
   "name": "python",
   "nbconvert_exporter": "python",
   "pygments_lexer": "ipython3",
   "version": "3.9.7"
  },
  "orig_nbformat": 4
 },
 "nbformat": 4,
 "nbformat_minor": 2
}
