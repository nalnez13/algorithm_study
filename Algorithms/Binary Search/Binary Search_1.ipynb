{
 "cells": [
  {
   "cell_type": "markdown",
   "metadata": {},
   "source": [
    "### 순차 탐색(Sequential Search)\n",
    "- 순차 탐색은 리스트 안에 있는 특정 데이터를 찾기위해 앞에서 부터 차례대로 확인하는 방법이다\n",
    "- 최악의 경우 시간 복잡도는 O(N)이다."
   ]
  },
  {
   "cell_type": "code",
   "execution_count": 2,
   "metadata": {},
   "outputs": [
    {
     "name": "stdout",
     "output_type": "stream",
     "text": [
      "['5', 'Dongbin']\n",
      "['Hanul', 'Jonggu', 'Dongbin', 'Taeil']\n",
      "3\n"
     ]
    }
   ],
   "source": [
    "def sequential_search(n, target, array):\n",
    "    for i in range(n):\n",
    "        if array[i] == target:\n",
    "            return i + 1\n",
    "\n",
    "input_data = input().split()\n",
    "print(input_data)\n",
    "n = int(input_data[0])\n",
    "target = input_data[1]\n",
    "\n",
    "array = input().split()\n",
    "print(array)\n",
    "print(sequential_search(n, target, array))"
   ]
  },
  {
   "cell_type": "markdown",
   "metadata": {},
   "source": [
    "### 이진 탐색(Binary Search)\n",
    "- 이진 탐색은 데이터가 정렬되어 있을 때만 사용할 수 있다.\n",
    "- 탐색 범위를 절반씩 좁혀가며 데이터를 탐색한다.\n",
    "- 탐색하고자 하는 범위의 시작점, 끝점, 중간접을 반복적으로 비교한다.\n",
    "- 한 번 확인할 때마다 범위가 절반이 되므로 시간 복잡도는 O(LogN) 이다.\n",
    "\n",
    "- 구현은 재귀함수, 단순 반복문을 사용하는 방법이 있다."
   ]
  },
  {
   "cell_type": "code",
   "execution_count": 5,
   "metadata": {},
   "outputs": [
    {
     "name": "stdout",
     "output_type": "stream",
     "text": [
      "10 7\n",
      "[1, 3, 5, 7, 9, 11, 13, 15, 17, 19]\n",
      "3\n"
     ]
    }
   ],
   "source": [
    "# 재귀함수를 사용하는 경우\n",
    "def binary_search(array, target, start, end):\n",
    "    if start > end:\n",
    "        return None\n",
    "    mid = (start + end) // 2\n",
    "\n",
    "    if array[mid] == target:\n",
    "        return mid\n",
    "    elif array[mid] > target:\n",
    "        return binary_search(array, target, start, mid - 1)\n",
    "    else:\n",
    "        return binary_search(array, target, mid + 1, end)\n",
    "\n",
    "n, target = map(int, input().split())\n",
    "\n",
    "array = list(map(int, input().split()))\n",
    "print(n, target)\n",
    "print(array)\n",
    "\n",
    "result = binary_search(array, target, 0, n-1)\n",
    "if result:\n",
    "    print(result)"
   ]
  },
  {
   "cell_type": "code",
   "execution_count": 6,
   "metadata": {},
   "outputs": [
    {
     "name": "stdout",
     "output_type": "stream",
     "text": [
      "10 7\n",
      "[1, 3, 5, 7, 9, 11, 13, 15, 17, 19]\n",
      "3\n"
     ]
    }
   ],
   "source": [
    "# 반복문을 사용하는 경우\n",
    "def binary_search(array, target, start, end):\n",
    "    while start <= end:\n",
    "        mid = (start + end) // 2\n",
    "        if array[mid] == target:\n",
    "            return mid\n",
    "        elif array[mid] > target:\n",
    "            end = mid - 1\n",
    "        else:\n",
    "            start = mid + 1\n",
    "\n",
    "    return None\n",
    "\n",
    "\n",
    "n, target = map(int, input().split())\n",
    "\n",
    "array = list(map(int, input().split()))\n",
    "print(n, target)\n",
    "print(array)\n",
    "\n",
    "result = binary_search(array, target, 0, n-1)\n",
    "if result:\n",
    "    print(result)"
   ]
  },
  {
   "cell_type": "markdown",
   "metadata": {},
   "source": [
    "### 부품 찾기\n",
    "- 전자 매장에 N개의 부품이 있다.\n",
    "- 각 부품은 정수형태의 고유한 번호가 있다.\n",
    "- 어느날 M 개 종류의 부품을 대량으로 구매하겠다며 견적서가 요청됐다.\n",
    "- 문의 받은 M개의 부품 종류를 모두 확인하여 견적서를 작성해야 한다.\n",
    "\n",
    "```\n",
    "예를 들어 \n",
    "N = 5\n",
    "[8, 3, 7, 9, 2]\n",
    "일 때 \n",
    "M = 3\n",
    "[5, 7, 9] 인 경우\n",
    "순서대로 \n",
    "no, yes, yes 를 출력한다.\n",
    "\n",
    "1 <= N <= 1,000,000\n",
    "1 <= M <= 100,000\n",
    "```"
   ]
  },
  {
   "cell_type": "markdown",
   "metadata": {},
   "source": [
    "- 이진탐색을 이용한 풀이\n",
    "- 탐색 시 최악의 경우 O(MLogN)의 시간 복잡도가 요구되며 정렬 시 O(NLogN)이 요구된다.\n",
    "- 문제 풀이시 O((M+N)LogN)의 시간 복잡도가 요구된다."
   ]
  },
  {
   "cell_type": "code",
   "execution_count": 11,
   "metadata": {},
   "outputs": [
    {
     "name": "stdout",
     "output_type": "stream",
     "text": [
      "5\n",
      "[8, 3, 7, 9, 2]\n",
      "3\n",
      "[5, 7, 9]\n",
      "no\n",
      "yes\n",
      "yes\n"
     ]
    }
   ],
   "source": [
    "def binary_search(array, target, start, end):\n",
    "    while start <= end:\n",
    "        mid = (start + end) // 2\n",
    "        if array[mid] == target:\n",
    "            return mid\n",
    "        elif array[mid] > target:\n",
    "            end = mid - 1\n",
    "        else:\n",
    "            start = mid + 1\n",
    "    return None\n",
    "\n",
    "n = int(input())\n",
    "array = list(map(int, input().split()))\n",
    "print(n)\n",
    "print(array)\n",
    "\n",
    "array.sort()\n",
    "m = int(input())\n",
    "\n",
    "x = list(map(int, input().split()))\n",
    "\n",
    "print(m)\n",
    "print(x)\n",
    "\n",
    "for i in x:\n",
    "    result = binary_search(array, i, 0, n - 1)\n",
    "    if result is not None:\n",
    "        print('yes')\n",
    "    else:\n",
    "        print('no')"
   ]
  },
  {
   "cell_type": "code",
   "execution_count": 12,
   "metadata": {},
   "outputs": [
    {
     "name": "stdout",
     "output_type": "stream",
     "text": [
      "5\n",
      "3\n",
      "[5, 7, 9]\n",
      "no\n",
      "yes\n",
      "yes\n"
     ]
    }
   ],
   "source": [
    "# 계수 정렬을 이용하는 경우\n",
    "n = int(input())\n",
    "array = [0] * 100000\n",
    "\n",
    "for i in input().split():\n",
    "    array[int(i)] = 1\n",
    "\n",
    "m = int(input())\n",
    "x = list(map(int, input().split()))\n",
    "print(n)\n",
    "print(array)\n",
    "print(m)\n",
    "print(x)\n",
    "\n",
    "for i in x:\n",
    "    if array[i] == 1:\n",
    "        print('yes')\n",
    "    else:\n",
    "        print('no')\n"
   ]
  },
  {
   "cell_type": "code",
   "execution_count": 13,
   "metadata": {},
   "outputs": [
    {
     "name": "stdout",
     "output_type": "stream",
     "text": [
      "5\n",
      "{2, 3, 7, 8, 9}\n",
      "3\n",
      "[5, 7, 9]\n",
      "no\n",
      "yes\n",
      "yes\n"
     ]
    }
   ],
   "source": [
    "# 집합을 이용한 풀이\n",
    "n = int(input())\n",
    "array = set(map(int, input().split()))\n",
    "\n",
    "m = int(input())\n",
    "x = list(map(int, input().split()))\n",
    "print(n)\n",
    "print(array)\n",
    "print(m)\n",
    "print(x)\n",
    "\n",
    "for i in x:\n",
    "    if i in array:\n",
    "        print('yes')\n",
    "    else:\n",
    "        print('no')\n"
   ]
  },
  {
   "cell_type": "markdown",
   "metadata": {},
   "source": [
    "### 떡볶이 떡 만들기\n",
    "- 떡집에서 떡복이 떡의 길이는 일정하지 않다.\n",
    "- 대신 한 봉지안에 들어가는 떡의 총 길이는 절단기로 맞춘다.\n",
    "- 절단기에 높이 H 를 지정하면 줄지어진 떡을 한 번에 절단한다.\n",
    "- 높이가 H보다 긴 떡은 H 위의 부분이 잘릴 것이고, 낮은 떡은 잘리지 않는다.\n",
    "- 예를 들어 높이가 19, 14, 10, 17cm 인 떡이 나란히 있고 절단기 높이를 15cm로 지정하면 자른 뒤 떡의 길이는 15, 14, 10, 15 cm가 되며 잘린 떡의 길이는 4, 0, 0, 2 cm 이다. 손님은 총 6cm를 가져간다.\n",
    "- 손님이 요청한 총 길이가 M 일 때 적어도 M 만큼의 떡을 얻기 위해 절단기에 설정할 수 있는 높이의 최대값을 구하라\n",
    "\n",
    "```\n",
    "1 <= N <= 1,000,000\n",
    "1 <= M <= 2,000,000,000\n",
    "N = 떡의 개수\n",
    "M = 요청한 길이\n",
    "\n",
    "입력예시\n",
    "4 6\n",
    "19 15 10 17\n",
    "\n",
    "출력예시\n",
    "15\n",
    "```\n",
    "\n",
    "- 주어진 조건에 맞는 가장 큰 값을 찾는 문제에 주로 사용되는 파라메트릭 서치 문제이다.\n",
    "- 적절한 높이를 찾을 때 까지 절단기 높이 H를 이진 탐색으로 조정한다.\n",
    "- 절단기의 높이 탐색 범위가 20억 까지이므로 빠르게 이진탐색으로 탐색한다."
   ]
  },
  {
   "cell_type": "code",
   "execution_count": 14,
   "metadata": {},
   "outputs": [
    {
     "name": "stdout",
     "output_type": "stream",
     "text": [
      "15\n"
     ]
    }
   ],
   "source": [
    "n, m = list(map(int, input().split()))\n",
    "array = list(map(int, input().split()))\n",
    "\n",
    "start = 0\n",
    "end = max(array)\n",
    "\n",
    "result = 0\n",
    "while start <= end:\n",
    "    total = 0\n",
    "    mid = (start + end) // 2\n",
    "    for x in array:\n",
    "        if x > mid:\n",
    "            total += x - mid\n",
    "    \n",
    "    if total < m:\n",
    "        end = mid - 1\n",
    "    else:\n",
    "        result = mid # 최대한 덜 잘랐을 경우가 정답이므로 result 에 기록한다\n",
    "        start = mid + 1\n",
    "\n",
    "print(result)"
   ]
  }
 ],
 "metadata": {
  "interpreter": {
   "hash": "9a1ec89fd4e57d564c4c04cf71716d7e381057f7690b602276210aaa54a14d21"
  },
  "kernelspec": {
   "display_name": "Python 3.9.7 64-bit ('base': conda)",
   "language": "python",
   "name": "python3"
  },
  "language_info": {
   "codemirror_mode": {
    "name": "ipython",
    "version": 3
   },
   "file_extension": ".py",
   "mimetype": "text/x-python",
   "name": "python",
   "nbconvert_exporter": "python",
   "pygments_lexer": "ipython3",
   "version": "3.9.7"
  },
  "orig_nbformat": 4
 },
 "nbformat": 4,
 "nbformat_minor": 2
}
