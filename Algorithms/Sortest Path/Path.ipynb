{
 "cells": [
  {
   "cell_type": "markdown",
   "metadata": {},
   "source": [
    "### 최단 경로 알고리즘\n",
    "- 최단 경로 문제는 보통 노드, 간선으로 표현되는 그래프를 이용한다.\n",
    "- 일반적인 거리 알고리즘은, 다익스트라, 플로이드 워셜, 벨만 포드 알고리즘이다.\n",
    "- 최단 경로 알고리즘은 그리디, DP 알고리즘이 적용된 형태이다."
   ]
  },
  {
   "cell_type": "markdown",
   "metadata": {},
   "source": [
    "### 다익스트라 최단 경로 알고리즘\n",
    "- 특정 노드에서 출발하여 다른 노드로 가능 각각의 최단 경로를 구하는 알고리즘이다.\n",
    "- 다익스트라는 음의 간선이 없을 떄 정상 동작한다.\n",
    "1. 출발 노드를 설정한다.\n",
    "2. 최단 거리 테이블을 초기화한다.(무한대의 값으로)\n",
    "3. 방문하지 않은 노드 중 최단 거리가 가장 짧은 노드를 선택한다.\n",
    "4. 해당 노드에서 다른 노드로 가는 비용을 계산하여 최단 거리 테이블을 갱신한다.\n",
    "5. 3, 4를 반복한다.\n",
    "- 다익스트라는 현재 가장 거리가 짧은 노드를 찾는 과정으로, 그리디 알고리즘으로 볼 수 있다"
   ]
  },
  {
   "cell_type": "code",
   "execution_count": null,
   "metadata": {},
   "outputs": [],
   "source": [
    "import sys\n",
    "input = sys.stdin.readline # 데이터가 많은 경우 sys 가 더 빠르다.\n",
    "INF = int(1e9) # 테이블 초기화를 위한 무한대값\n",
    "\n",
    "n, m = map(int, input().split()) # 노드, 간선 수\n",
    "\n",
    "start = int(input()) # 시작 노드\n",
    "\n",
    "graph = [ []for i in range(n+1)] # 노드 번호로 인덱싱 하기 위해 n+1 크기로 배열을 생성한다.(0은 버림) 그래프 문제에서 주로 사용되는 방법\n",
    "\n",
    "visited = [False] * (n+1)\n",
    "distance = [INF] * (n+1)\n",
    "\n",
    "# 간선 정보 입력\n",
    "for _ in range(m):\n",
    "    a, b, c = map(int, input().split()) # a 노드에서 b 로 가는 비용이 c\n",
    "    graph[a].append((b, c))\n",
    "\n",
    "\n",
    "def get_smallest_node():\n",
    "    min_val = INF\n",
    "    idx = 0\n",
    "    for i in range(1, n + 1):\n",
    "        if distance[i] < min_val and not visited[i]:\n",
    "            min_val = distance[i]\n",
    "            idx = i\n",
    "    return idx\n",
    "\n",
    "def dijkstra(start):\n",
    "    distance[start] = 0\n",
    "    visited[start] = True\n",
    "\n",
    "    for dst_node, dist in graph[start]:\n",
    "        distance[dst_node] = dist\n",
    "\n",
    "    for i in range(n - 1):\n",
    "        now = get_smallest_node()\n",
    "        \n",
    "\n",
    "dijkstra(start)\n",
    "\n",
    "# 시작 노드에서 i 노드로 가는 최단 거리를 출력\n",
    "for i in range(1, n+1):\n",
    "    if distance[i] == INF:\n",
    "        print(\"INFINITY\")\n",
    "\n",
    "    else:\n",
    "        print(distance[i])\n"
   ]
  }
 ],
 "metadata": {
  "interpreter": {
   "hash": "102836169954e04b0f6f2752ac3876316dae8649eaf6d032d6c726b7505673b3"
  },
  "kernelspec": {
   "display_name": "Python 3.9.7 64-bit ('base': conda)",
   "language": "python",
   "name": "python3"
  },
  "language_info": {
   "name": "python",
   "version": "3.9.7"
  },
  "orig_nbformat": 4
 },
 "nbformat": 4,
 "nbformat_minor": 2
}
