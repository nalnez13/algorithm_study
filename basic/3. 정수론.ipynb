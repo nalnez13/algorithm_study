{
 "cells": [
  {
   "cell_type": "markdown",
   "id": "0d39b4f4",
   "metadata": {},
   "source": [
    "### 약수 구하기\n",
    "\n",
    "- 1 부터 주어진 수까지 반복문으로 계산하면서 나누어 떨어지는지 확인"
   ]
  },
  {
   "cell_type": "code",
   "execution_count": 6,
   "id": "43cef73a",
   "metadata": {},
   "outputs": [
    {
     "name": "stdout",
     "output_type": "stream",
     "text": [
      "1\n",
      "2\n",
      "4\n",
      "5\n",
      "10\n",
      "20\n"
     ]
    }
   ],
   "source": [
    "n = 20\n",
    "for i in range(1, n+1):\n",
    "    if n % i == 0:\n",
    "        print(i)"
   ]
  },
  {
   "cell_type": "markdown",
   "id": "d9e1457a",
   "metadata": {},
   "source": [
    "### 소수(Prime Number) 판별하기\n",
    "\n",
    "- 약수가 1과 자신만 있는 수\n",
    "- 2 부터 N-1 까지 나누어 떨어지는게 있으면 소수가 아님"
   ]
  },
  {
   "cell_type": "code",
   "execution_count": 7,
   "id": "b5a88149",
   "metadata": {},
   "outputs": [
    {
     "name": "stdout",
     "output_type": "stream",
     "text": [
      "NO\n"
     ]
    }
   ],
   "source": [
    "# 8: NO\n",
    "# 7: YES\n",
    "\n",
    "n = 8\n",
    "isPrime = True\n",
    "\n",
    "for i in range(2, n):\n",
    "    if n % i == 0:\n",
    "        isPrime = False\n",
    "        break\n",
    "\n",
    "if isPrime:\n",
    "    print(\"YES\")\n",
    "else:\n",
    "    print(\"NO\")"
   ]
  },
  {
   "cell_type": "markdown",
   "id": "2e5bb930",
   "metadata": {},
   "source": [
    "### 소인수 분해 (Prime Factorization)\n",
    "- 숫자 N을 소수의 곱으로 표현\n",
    "- 2 < K < N-1 인 모든 정수 K로 가능한만큼 나누면 됨. 소수 리스트를 알 필요는 없음"
   ]
  },
  {
   "cell_type": "code",
   "execution_count": 8,
   "id": "36b2cb5f",
   "metadata": {},
   "outputs": [
    {
     "name": "stdout",
     "output_type": "stream",
     "text": [
      "2\n",
      "2\n",
      "3\n",
      "3\n",
      "5\n"
     ]
    }
   ],
   "source": [
    "# 180 -> 2 2 3 3 5\n",
    "\n",
    "n = 180\n",
    "i = 2\n",
    "while n > 1:\n",
    "    if n % i == 0:\n",
    "        print(i)\n",
    "        n /= i\n",
    "    else: # 나눠떨어지지 않으면 다음 정수로 변경\n",
    "        i += 1 "
   ]
  },
  {
   "cell_type": "markdown",
   "id": "1f7ece76",
   "metadata": {},
   "source": [
    "### 최대 공약수(Greatest Common Divisor, GCD), 최소 공배수(Lowest Common Multiplier, LCM)\n",
    "### 유클리드 호제법\n",
    "- 최대 공약수를 구하기 위한 알고리즘\n",
    "- a, b 의 최대 공약수를 구하는 경우  \n",
    "  - r = a를 b로 나눈 나머지  \n",
    "  - b를 a 로, r을 b로 하고 r을 다시 구함  \n",
    "  - a 가 b로 나누어 떨어지는 경우 b 가 최대 공약수가 됨  \n",
    "\n",
    "| a | b | r |\n",
    "|---|---|---|\n",
    "| 152|68|20|\n",
    "|68|20|8|\n",
    "|20|8|4|\n",
    "|8|4|0|\n",
    "\n",
    "-> 4가 최대 공약수임"
   ]
  },
  {
   "cell_type": "code",
   "execution_count": 9,
   "id": "7d30bedc",
   "metadata": {},
   "outputs": [
    {
     "name": "stdout",
     "output_type": "stream",
     "text": [
      "GCD: 4\n"
     ]
    }
   ],
   "source": [
    "# 최대 공약수 찾기\n",
    "a=152\n",
    "b=68\n",
    "gcd=0\n",
    "\n",
    "while True:\n",
    "    r = a % b\n",
    "    if r == 0:\n",
    "        gcd = b\n",
    "        break\n",
    "    a = b\n",
    "    b = r\n",
    "\n",
    "print(f'GCD: {gcd}')"
   ]
  },
  {
   "cell_type": "code",
   "execution_count": 10,
   "id": "b2b48086",
   "metadata": {},
   "outputs": [
    {
     "name": "stdout",
     "output_type": "stream",
     "text": [
      "LCM: 2584\n"
     ]
    }
   ],
   "source": [
    "# 최소 공배수 찾기\n",
    "# G가 최대 공약수 일 때\n",
    "# A = aG\n",
    "# B = bG\n",
    "# lcm = abG = AB/gcd\n",
    "\n",
    "A=a=152\n",
    "B=b=68\n",
    "\n",
    "gcd=0\n",
    "lcm=0\n",
    "\n",
    "while True:\n",
    "    r = a % b\n",
    "    if r == 0:\n",
    "        gcd = b\n",
    "        break\n",
    "    a = b\n",
    "    b = r\n",
    "\n",
    "a = A//gcd\n",
    "b = B//gcd\n",
    "lcm = A*B//gcd\n",
    "\n",
    "print(f'LCM: {lcm}')"
   ]
  }
 ],
 "metadata": {
  "kernelspec": {
   "display_name": "Python 3 (ipykernel)",
   "language": "python",
   "name": "python3"
  },
  "language_info": {
   "codemirror_mode": {
    "name": "ipython",
    "version": 3
   },
   "file_extension": ".py",
   "mimetype": "text/x-python",
   "name": "python",
   "nbconvert_exporter": "python",
   "pygments_lexer": "ipython3",
   "version": "3.9.7"
  }
 },
 "nbformat": 4,
 "nbformat_minor": 5
}
